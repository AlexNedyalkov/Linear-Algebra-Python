{
  "nbformat": 4,
  "nbformat_minor": 0,
  "metadata": {
    "kernelspec": {
      "display_name": "Python 3",
      "language": "python",
      "name": "python3"
    },
    "language_info": {
      "codemirror_mode": {
        "name": "ipython",
        "version": 3
      },
      "file_extension": ".py",
      "mimetype": "text/x-python",
      "name": "python",
      "nbconvert_exporter": "python",
      "pygments_lexer": "ipython3",
      "version": "3.7.3"
    },
    "colab": {
      "name": "Projections and Orthogonalization.ipynb",
      "provenance": [],
      "collapsed_sections": [
        "ehf49BejR2wp"
      ],
      "include_colab_link": true
    }
  },
  "cells": [
    {
      "cell_type": "markdown",
      "metadata": {
        "id": "view-in-github",
        "colab_type": "text"
      },
      "source": [
        "<a href=\"https://colab.research.google.com/github/AlexNedyalkov/Linear-Algebra-Python/blob/master/Projections_and_Orthogonalization.ipynb\" target=\"_parent\"><img src=\"https://colab.research.google.com/assets/colab-badge.svg\" alt=\"Open In Colab\"/></a>"
      ]
    },
    {
      "cell_type": "code",
      "metadata": {
        "id": "wElc9_i0R2v_",
        "colab_type": "code",
        "colab": {}
      },
      "source": [
        "import numpy as np\n",
        "import matplotlib.pyplot as plt\n",
        "import math\n",
        "from mpl_toolkits.mplot3d import Axes3D"
      ],
      "execution_count": null,
      "outputs": []
    },
    {
      "cell_type": "markdown",
      "metadata": {
        "id": "0PrVJ2HYmy01",
        "colab_type": "text"
      },
      "source": [
        "---\n",
        "# Theory\n",
        "---\n",
        "\n",
        "\n",
        "*   __Orthogonal matrices__: all columns are pairwise orthogonal and have a magnitude of 1\n",
        "\n",
        "*   Q.transpose() @ Q = I __AND__ Q^-1 @ Q = I ==> Q.transpose() == Q^-1\n"
      ]
    },
    {
      "cell_type": "markdown",
      "metadata": {
        "id": "kJnGbOInR2wM",
        "colab_type": "text"
      },
      "source": [
        "\n",
        "---\n",
        "# 1: Projections in R^2\n",
        "---\n"
      ]
    },
    {
      "cell_type": "code",
      "metadata": {
        "id": "P4pPBPuPTrV0",
        "colab_type": "code",
        "colab": {
          "base_uri": "https://localhost:8080/",
          "height": 34
        },
        "outputId": "c396c23e-f46c-4952-f897-6cc5bc4cab6a"
      },
      "source": [
        "# point b\n",
        "b = np.array([4,1])\n",
        "\n",
        "# line a\n",
        "a = np.array([ 2, 5 ])\n",
        "\n",
        "# orthogonal line from b to a is the difference of two vectors\n",
        "orthogonal_side = b - beta * a\n",
        "# since orthogonal side and beta * a are perpendicular:\n",
        "# dot product of orhogoanl side and a is zero\n",
        "# (a.transpose()) @ orthogonal_sde = 0\n",
        "# (a.transpose()) @ (b - beta * a) = 0\n",
        "# (a.transpose() @ b - beta(a.transpose() @ a) = 0\n",
        "# (a.transpose() @ b) = beta*(a.tranpose() @ a)\n",
        "# a.tranpose @ a is a number therefore:\n",
        "# beta - scaler on which you would project b on a\n",
        "beta = a.transpose() @ b / (a.transpose() @ a)\n",
        "\n",
        "beta"
      ],
      "execution_count": null,
      "outputs": [
        {
          "output_type": "execute_result",
          "data": {
            "text/plain": [
              "0.4482758620689655"
            ]
          },
          "metadata": {
            "tags": []
          },
          "execution_count": 6
        }
      ]
    },
    {
      "cell_type": "code",
      "metadata": {
        "id": "VgSi7plgnPlO",
        "colab_type": "code",
        "colab": {
          "base_uri": "https://localhost:8080/",
          "height": 34
        },
        "outputId": "824c5ff8-ae61-4b52-ea58-a95ad55a2bf5"
      },
      "source": [
        "# the point on a where b would project\n",
        "a * beta"
      ],
      "execution_count": null,
      "outputs": [
        {
          "output_type": "execute_result",
          "data": {
            "text/plain": [
              "array([0.89655172, 2.24137931])"
            ]
          },
          "metadata": {
            "tags": []
          },
          "execution_count": 7
        }
      ]
    },
    {
      "cell_type": "code",
      "metadata": {
        "id": "uLQYCxZCngKZ",
        "colab_type": "code",
        "colab": {
          "base_uri": "https://localhost:8080/",
          "height": 269
        },
        "outputId": "886e2092-d7ff-4331-8d29-8e5b29258b8e"
      },
      "source": [
        "# draw!\n",
        "# plot point b\n",
        "plt.plot(b[0],b[1],'ko',label='b')\n",
        "# plot vector a\n",
        "plt.plot([0, a[0]], [0, a[1]], 'b', label = 'a')\n",
        "\n",
        "#plot the projections\n",
        "plt.plot([b[0], b[1]], [beta*a[0], beta * a[1]], 'r--', label = 'b-$\\beta$a')\n",
        "\n",
        "# add graphics\n",
        "plt.axis('square')\n",
        "plt.grid()\n",
        "plt.axis((-1, 6, -1, 6))\n",
        "\n",
        "plt.show()"
      ],
      "execution_count": null,
      "outputs": [
        {
          "output_type": "display_data",
          "data": {
            "image/png": "[encoded data removed]",
            "text/plain": [
              "<Figure size 432x288 with 1 Axes>"
            ]
          },
          "metadata": {
            "tags": [],
            "needs_background": "light"
          }
        }
      ]
    },
    {
      "cell_type": "markdown",
      "metadata": {
        "id": "jGqoVsR9R2wY",
        "colab_type": "text"
      },
      "source": [
        "\n",
        "---\n",
        "# 2: Projections in R^N\n",
        "---\n"
      ]
    },
    {
      "cell_type": "code",
      "metadata": {
        "id": "SbtfXdgoxvps",
        "colab_type": "code",
        "colab": {}
      },
      "source": [
        "# you have a vector in m dimensional space and you want to project it on A\n",
        "# orthogonal line from b to A is the difference of two vectors\n",
        "orthogonal_side = b - A * beta\n",
        "# orthogonal side dot the A is zero:\n",
        "# A.transpose() @ (b - A * beta) = 0\n",
        "# A.transpose() @ b - A.transpose() @ A @ beta = 0\n",
        "# A.transpose() @ b = A.transpose() @ A @ beta\n",
        "# (A.transpose @ A)^-1 @ A.transpose() @ b = beta\n",
        "# beta = A^-1 @ A.transpose()^-1 @ A.tranpose() @ b \n",
        "# beta = A^-1 @ b \n",
        "\n",
        "# sizes\n",
        "m = 16\n",
        "n = 10\n",
        "\n",
        "# vector b\n",
        "b = np.random.randn(m,1)\n",
        "\n",
        "# matrix A\n",
        "A = np.random.randn(m,n)"
      ],
      "execution_count": null,
      "outputs": []
    },
    {
      "cell_type": "code",
      "metadata": {
        "id": "h8JuCLcxxzXE",
        "colab_type": "code",
        "colab": {}
      },
      "source": [
        "# b - A * x = "
      ],
      "execution_count": null,
      "outputs": []
    },
    {
      "cell_type": "code",
      "metadata": {
        "id": "fS494tZVR2wZ",
        "colab_type": "code",
        "colab": {}
      },
      "source": [
        "\n",
        "\n",
        "# solution using explicit inverse\n",
        "x1 = np.linalg.inv(np.matrix.transpose(A)@A) @ (np.matrix.transpose(A)@b)\n",
        "\n",
        "# python solution\n",
        "x2 = np.linalg.solve(np.matrix.transpose(A)@A,np.matrix.transpose(A)@b)\n",
        "\n",
        "# show that the results are the same\n",
        "print([x1,x2])"
      ],
      "execution_count": null,
      "outputs": []
    },
    {
      "cell_type": "code",
      "metadata": {
        "id": "uSlcjyT4R2wh",
        "colab_type": "code",
        "colab": {
          "base_uri": "https://localhost:8080/",
          "height": 352
        },
        "outputId": "8c6436aa-6d20-4b79-fd17-82d2a8e2f003"
      },
      "source": [
        "## geometric perspective in R^3\n",
        "\n",
        "# matrix sizes\n",
        "m = 3\n",
        "n = 2\n",
        "\n",
        "# vector b\n",
        "b = np.random.randn(m,1)\n",
        "\n",
        "# matrix A\n",
        "A = np.random.randn(m,n)\n",
        "\n",
        "\n",
        "# solution\n",
        "x = np.linalg.solve(np.matrix.transpose(A)@A,np.matrix.transpose(A)@b)\n",
        "Ax = A@x\n",
        "\n",
        "print(b)\n",
        "print(Ax)\n",
        "\n",
        "## plot\n",
        "fig = plt.figure(figsize=plt.figaspect(1))\n",
        "ax = fig.gca(projection='3d')\n",
        "\n",
        "# plot the vectors\n",
        "ax.plot([0, b[0]],[0, b[1]],[0, b[2]],'r')\n",
        "ax.plot([0, Ax[0]],[0, Ax[1]],[0, Ax[2]],'b')\n",
        "\n",
        "# plot the projection line\n",
        "ax.plot( [Ax[0][0], b[0]],\n",
        "         [Ax[1][0], b[1]],\n",
        "         [Ax[2][0], b[2]], 'g')\n",
        "\n",
        "# now draw plane\n",
        "xx, yy = np.meshgrid(np.linspace(-2,2), np.linspace(-2,2))\n",
        "cp = np.cross(A[:,0],A[:,1])\n",
        "z1 = (-cp[0]*xx - cp[1]*yy)*1./cp[2]\n",
        "ax.plot_surface(xx,yy,z1)\n",
        "\n",
        "plt.show()"
      ],
      "execution_count": null,
      "outputs": [
        {
          "output_type": "stream",
          "text": [
            "[[-0.4750391 ]\n",
            " [-0.10783984]\n",
            " [-0.69850841]]\n",
            "[[-0.40323859]\n",
            " [-0.26219663]\n",
            " [-0.68160854]]\n"
          ],
          "name": "stdout"
        },
        {
          "output_type": "display_data",
          "data": {
            "image/png": "[encoded data removed]",
            "text/plain": [
              "<Figure size 288x288 with 1 Axes>"
            ]
          },
          "metadata": {
            "tags": [],
            "needs_background": "light"
          }
        }
      ]
    },
    {
      "cell_type": "markdown",
      "metadata": {
        "id": "5wkVNkIMbCQq",
        "colab_type": "text"
      },
      "source": [
        "---\n",
        "#Code Challenge: Decompose vectors to orthogonal componenta\n",
        "---"
      ]
    },
    {
      "cell_type": "code",
      "metadata": {
        "id": "aPhA_qUYbKwh",
        "colab_type": "code",
        "colab": {
          "base_uri": "https://localhost:8080/",
          "height": 34
        },
        "outputId": "3c3e6adc-48f9-4d8a-d216-c60eef3f1552"
      },
      "source": [
        "# vector v to be decomposed\n",
        "w = np.array([2,3])\n",
        "\n",
        "# vector v to be used as reference\n",
        "v = np.array([4, 0])\n",
        "v"
      ],
      "execution_count": null,
      "outputs": [
        {
          "output_type": "execute_result",
          "data": {
            "text/plain": [
              "array([4, 0])"
            ]
          },
          "metadata": {
            "tags": []
          },
          "execution_count": 2
        }
      ]
    },
    {
      "cell_type": "code",
      "metadata": {
        "id": "L5TFSolcjWUl",
        "colab_type": "code",
        "colab": {
          "base_uri": "https://localhost:8080/",
          "height": 34
        },
        "outputId": "2ddb8abd-0f75-4088-bf22-a0763959db1c"
      },
      "source": [
        "# compute w parallel to v\n",
        "w_paralel = (w.transpose() @ v)/(v.transpose() @ v) * v\n",
        "\n",
        "w_paralel"
      ],
      "execution_count": null,
      "outputs": [
        {
          "output_type": "execute_result",
          "data": {
            "text/plain": [
              "array([2., 0.])"
            ]
          },
          "metadata": {
            "tags": []
          },
          "execution_count": 6
        }
      ]
    },
    {
      "cell_type": "code",
      "metadata": {
        "id": "ftn_OFM5kBBf",
        "colab_type": "code",
        "colab": {
          "base_uri": "https://localhost:8080/",
          "height": 34
        },
        "outputId": "562dbad3-13c7-4201-e1af-4689992c4e5a"
      },
      "source": [
        "# compute v orthogonal\n",
        "w_orthogonal = w - w_paralel\n",
        "w_orthogonal"
      ],
      "execution_count": null,
      "outputs": [
        {
          "output_type": "execute_result",
          "data": {
            "text/plain": [
              "array([0., 3.])"
            ]
          },
          "metadata": {
            "tags": []
          },
          "execution_count": 8
        }
      ]
    },
    {
      "cell_type": "code",
      "metadata": {
        "id": "gBtWNkXrkXuG",
        "colab_type": "code",
        "colab": {
          "base_uri": "https://localhost:8080/",
          "height": 34
        },
        "outputId": "e9a5da71-52fc-4a17-b32f-22c1b36dc830"
      },
      "source": [
        "# check with dot product\n",
        "w_orthogonal @ w_paralel"
      ],
      "execution_count": null,
      "outputs": [
        {
          "output_type": "execute_result",
          "data": {
            "text/plain": [
              "0.0"
            ]
          },
          "metadata": {
            "tags": []
          },
          "execution_count": 10
        }
      ]
    },
    {
      "cell_type": "code",
      "metadata": {
        "id": "27g2l8MFkqxr",
        "colab_type": "code",
        "colab": {
          "base_uri": "https://localhost:8080/",
          "height": 34
        },
        "outputId": "a608606a-0c29-4286-9fb1-cc26a0788dbc"
      },
      "source": [
        "# check by adding the two components together\n",
        "w_orthogonal + w_paralel"
      ],
      "execution_count": null,
      "outputs": [
        {
          "output_type": "execute_result",
          "data": {
            "text/plain": [
              "array([2., 3.])"
            ]
          },
          "metadata": {
            "tags": []
          },
          "execution_count": 11
        }
      ]
    },
    {
      "cell_type": "markdown",
      "metadata": {
        "id": "FxX589vAZIjg",
        "colab_type": "text"
      },
      "source": [
        "---\n",
        "#3: Orthogonal Matrices\n",
        "---"
      ]
    },
    {
      "cell_type": "code",
      "metadata": {
        "id": "fi6Xb-sjYQit",
        "colab_type": "code",
        "colab": {
          "base_uri": "https://localhost:8080/",
          "height": 69
        },
        "outputId": "488c79d1-1804-4266-afc3-91d5f3c5be3e"
      },
      "source": [
        "s = np.array([[2, 1],[-2, 2],[1, 2]])/3\n",
        "s"
      ],
      "execution_count": null,
      "outputs": [
        {
          "output_type": "execute_result",
          "data": {
            "text/plain": [
              "array([[ 0.66666667,  0.33333333],\n",
              "       [-0.66666667,  0.66666667],\n",
              "       [ 0.33333333,  0.66666667]])"
            ]
          },
          "metadata": {
            "tags": []
          },
          "execution_count": 23
        }
      ]
    },
    {
      "cell_type": "code",
      "metadata": {
        "id": "krpvFROMYlwd",
        "colab_type": "code",
        "colab": {}
      },
      "source": [
        "first_column = s[:,0]\n",
        "second_column = s[:,1]"
      ],
      "execution_count": null,
      "outputs": []
    },
    {
      "cell_type": "code",
      "metadata": {
        "id": "X6ZVLaykYukl",
        "colab_type": "code",
        "colab": {
          "base_uri": "https://localhost:8080/",
          "height": 34
        },
        "outputId": "7203d0e4-0461-4abf-f4e2-c6a88a1a9d66"
      },
      "source": [
        "first_column @ second_column"
      ],
      "execution_count": null,
      "outputs": [
        {
          "output_type": "execute_result",
          "data": {
            "text/plain": [
              "0.0"
            ]
          },
          "metadata": {
            "tags": []
          },
          "execution_count": 25
        }
      ]
    },
    {
      "cell_type": "code",
      "metadata": {
        "id": "2Lv2LiJ7Y09c",
        "colab_type": "code",
        "colab": {
          "base_uri": "https://localhost:8080/",
          "height": 34
        },
        "outputId": "85ac4eb9-e431-4007-8375-e3ce2bf2cb45"
      },
      "source": [
        "np.linalg.norm(first_column)"
      ],
      "execution_count": null,
      "outputs": [
        {
          "output_type": "execute_result",
          "data": {
            "text/plain": [
              "1.0"
            ]
          },
          "metadata": {
            "tags": []
          },
          "execution_count": 26
        }
      ]
    },
    {
      "cell_type": "code",
      "metadata": {
        "id": "1BEm35I4Y5oI",
        "colab_type": "code",
        "colab": {
          "base_uri": "https://localhost:8080/",
          "height": 34
        },
        "outputId": "d77b9c3a-9fc4-49e6-964e-9316160a8486"
      },
      "source": [
        "np.linalg.norm(second_column)"
      ],
      "execution_count": null,
      "outputs": [
        {
          "output_type": "execute_result",
          "data": {
            "text/plain": [
              "1.0"
            ]
          },
          "metadata": {
            "tags": []
          },
          "execution_count": 27
        }
      ]
    },
    {
      "cell_type": "code",
      "metadata": {
        "id": "GYJR6aBeZraF",
        "colab_type": "code",
        "colab": {
          "base_uri": "https://localhost:8080/",
          "height": 52
        },
        "outputId": "7215ef5a-fc69-4756-cf80-87ed008363b5"
      },
      "source": [
        "# Identity matrix\n",
        "s.transpose() @ s"
      ],
      "execution_count": null,
      "outputs": [
        {
          "output_type": "execute_result",
          "data": {
            "text/plain": [
              "array([[1.00000000e+00, 1.54197642e-17],\n",
              "       [1.54197642e-17, 1.00000000e+00]])"
            ]
          },
          "metadata": {
            "tags": []
          },
          "execution_count": 29
        }
      ]
    },
    {
      "cell_type": "code",
      "metadata": {
        "id": "PKfTFhBjZ1BO",
        "colab_type": "code",
        "colab": {
          "base_uri": "https://localhost:8080/",
          "height": 69
        },
        "outputId": "02b29f55-f458-4846-cb3c-0662f5f1719b"
      },
      "source": [
        "# Nonidentity matrix\n",
        "s @ s.transpose()"
      ],
      "execution_count": null,
      "outputs": [
        {
          "output_type": "execute_result",
          "data": {
            "text/plain": [
              "array([[ 0.55555556, -0.22222222,  0.44444444],\n",
              "       [-0.22222222,  0.88888889,  0.22222222],\n",
              "       [ 0.44444444,  0.22222222,  0.55555556]])"
            ]
          },
          "metadata": {
            "tags": []
          },
          "execution_count": 30
        }
      ]
    },
    {
      "cell_type": "markdown",
      "metadata": {
        "id": "pgvBgJ6PaNq_",
        "colab_type": "text"
      },
      "source": [
        "---\n",
        "#4: Gram-Schmidt\n",
        "---\n"
      ]
    },
    {
      "cell_type": "code",
      "metadata": {
        "id": "_7Lkbw8mgNgJ",
        "colab_type": "code",
        "colab": {
          "base_uri": "https://localhost:8080/",
          "height": 52
        },
        "outputId": "e766d079-572a-4392-9bd8-9dd53a27c6fd"
      },
      "source": [
        "A = np.array([[1, 1, -2], [3, -1, 1]])\n",
        "A"
      ],
      "execution_count": null,
      "outputs": [
        {
          "output_type": "execute_result",
          "data": {
            "text/plain": [
              "array([[ 1,  1, -2],\n",
              "       [ 3, -1,  1]])"
            ]
          },
          "metadata": {
            "tags": []
          },
          "execution_count": 51
        }
      ]
    },
    {
      "cell_type": "code",
      "metadata": {
        "id": "tdRRNcqcgcpj",
        "colab_type": "code",
        "colab": {
          "base_uri": "https://localhost:8080/",
          "height": 69
        },
        "outputId": "4f1f0e0d-ca31-4719-ce57-d8658bcc5d0f"
      },
      "source": [
        "#Get each column\n",
        "first_column = (A[:, 0] ).transpose()\n",
        "print(first_column)\n",
        "\n",
        "second_column = A[:, 1].transpose()\n",
        "print(second_column)\n",
        "\n",
        "third_column = A[:, 2].transpose()\n",
        "print(third_column)"
      ],
      "execution_count": null,
      "outputs": [
        {
          "output_type": "stream",
          "text": [
            "[1 3]\n",
            "[ 1 -1]\n",
            "[-2  1]\n"
          ],
          "name": "stdout"
        }
      ]
    },
    {
      "cell_type": "code",
      "metadata": {
        "id": "8o9gsZgEhqmF",
        "colab_type": "code",
        "colab": {}
      },
      "source": [
        "parallel_second = (first_column.transpose() @ second_column) / (first_column @ first_column.transpose()) * first_column"
      ],
      "execution_count": null,
      "outputs": []
    },
    {
      "cell_type": "code",
      "metadata": {
        "id": "_H-vDSiwCX8_",
        "colab_type": "code",
        "colab": {
          "base_uri": "https://localhost:8080/",
          "height": 34
        },
        "outputId": "47d78b1d-7998-4104-ac63-936d543e0c52"
      },
      "source": [
        "orthogonal_second = second_column - parallel_second\n",
        "orthogonal_second"
      ],
      "execution_count": null,
      "outputs": [
        {
          "output_type": "execute_result",
          "data": {
            "text/plain": [
              "array([ 1.2, -0.4])"
            ]
          },
          "metadata": {
            "tags": []
          },
          "execution_count": 72
        }
      ]
    },
    {
      "cell_type": "code",
      "metadata": {
        "id": "tcIf3VhgCgIe",
        "colab_type": "code",
        "colab": {
          "base_uri": "https://localhost:8080/",
          "height": 34
        },
        "outputId": "9332d01a-634d-4000-b23f-4b92d4bcb0f0"
      },
      "source": [
        "# check\n",
        "orthogonal_second @ first_column"
      ],
      "execution_count": null,
      "outputs": [
        {
          "output_type": "execute_result",
          "data": {
            "text/plain": [
              "2.220446049250313e-16"
            ]
          },
          "metadata": {
            "tags": []
          },
          "execution_count": 74
        }
      ]
    },
    {
      "cell_type": "code",
      "metadata": {
        "id": "bIA-QHx9FDtk",
        "colab_type": "code",
        "colab": {}
      },
      "source": [
        "parallel_third = (first_column @ third_column / first_column @ first_column) * (first_column)"
      ],
      "execution_count": null,
      "outputs": []
    },
    {
      "cell_type": "code",
      "metadata": {
        "id": "UBK6edYQFYvx",
        "colab_type": "code",
        "colab": {
          "base_uri": "https://localhost:8080/",
          "height": 34
        },
        "outputId": "8aa4e9be-9f46-4738-c04f-7456ac81dfd8"
      },
      "source": [
        "orthogonal_third = third_column - parallel_third\n",
        "orthogonal_third"
      ],
      "execution_count": null,
      "outputs": [
        {
          "output_type": "execute_result",
          "data": {
            "text/plain": [
              "array([-4., -5.])"
            ]
          },
          "metadata": {
            "tags": []
          },
          "execution_count": 82
        }
      ]
    },
    {
      "cell_type": "code",
      "metadata": {
        "id": "q4k9G50wFin7",
        "colab_type": "code",
        "colab": {
          "base_uri": "https://localhost:8080/",
          "height": 34
        },
        "outputId": "393f3ab4-52e7-4933-aabc-327321135acf"
      },
      "source": [
        "# check\n",
        "orthogonal_third @ first_column"
      ],
      "execution_count": null,
      "outputs": [
        {
          "output_type": "execute_result",
          "data": {
            "text/plain": [
              "-19.0"
            ]
          },
          "metadata": {
            "tags": []
          },
          "execution_count": 81
        }
      ]
    },
    {
      "cell_type": "markdown",
      "metadata": {
        "id": "ehf49BejR2wp",
        "colab_type": "text"
      },
      "source": [
        "\n",
        "---\n",
        "# 4: QR decomposition\n",
        "---\n"
      ]
    },
    {
      "cell_type": "code",
      "metadata": {
        "id": "_foNy1vVR2wq",
        "colab_type": "code",
        "colab": {}
      },
      "source": [
        "# example from the slides\n",
        "\n",
        "A = [ [1,0],\n",
        "      [1,0],\n",
        "      [0,1] ]\n",
        "  \n",
        "# \"full\" QR decomposition\n",
        "Q,R = np.linalg.qr(A,'complete')\n",
        "print(Q)\n",
        "\n",
        "# \"economy\" QR decompmosition\n",
        "Q,R = np.linalg.qr(A) # is the default option in Python\n",
        "print(Q)"
      ],
      "execution_count": null,
      "outputs": []
    },
    {
      "cell_type": "code",
      "metadata": {
        "id": "RRwyRPZMR2wx",
        "colab_type": "code",
        "colab": {}
      },
      "source": [
        "## another example\n",
        "\n",
        "# the to-be-decomposed matrix\n",
        "M = np.array( [ [1, 1,-2], [3,-1, 1] ] )\n",
        "\n",
        "# QR decomposition\n",
        "Q,R = np.linalg.qr(M,'complete')\n",
        "\n",
        "# notice:\n",
        "print('R from QR: '),print(R)\n",
        "print('R from Q^TA: '),print(Q.T@M)\n",
        "\n",
        "# plot\n",
        "colorz = 'krg'\n",
        "\n",
        "for i in range(0,np.shape(M)[1]):\n",
        "    \n",
        "    # plot original vector M\n",
        "    plt.plot([0,M[0,i]],[0,M[1,i]],colorz[i])\n",
        "    \n",
        "    # plot orthogonalized vector Q\n",
        "    if i<np.shape(Q)[1]:\n",
        "        plt.plot([0,Q[0,i]],[0,Q[1,i]],colorz[i],linestyle='--')\n",
        "    \n",
        "    # plot residual vector R\n",
        "    plt.plot([0,R[0,i]],[0,R[1,i]],colorz[i],linestyle=':')\n",
        "\n",
        "    \n",
        "plt.legend(['M_1','Q_1','R_1'])\n",
        "plt.axis('square')\n",
        "plt.xlim(-4,4)\n",
        "plt.ylim(-4,4)\n",
        "plt.grid(True)\n",
        "plt.plot()\n"
      ],
      "execution_count": null,
      "outputs": []
    }
  ]
}