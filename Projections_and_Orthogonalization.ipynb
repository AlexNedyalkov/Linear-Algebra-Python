{
  "nbformat": 4,
  "nbformat_minor": 0,
  "metadata": {
    "kernelspec": {
      "display_name": "Python 3",
      "language": "python",
      "name": "python3"
    },
    "language_info": {
      "codemirror_mode": {
        "name": "ipython",
        "version": 3
      },
      "file_extension": ".py",
      "mimetype": "text/x-python",
      "name": "python",
      "nbconvert_exporter": "python",
      "pygments_lexer": "ipython3",
      "version": "3.7.3"
    },
    "colab": {
      "name": "Projections and Orthogonalization.ipynb",
      "provenance": [],
      "collapsed_sections": [
        "jGqoVsR9R2wY",
        "ehf49BejR2wp"
      ],
      "include_colab_link": true
    }
  },
  "cells": [
    {
      "cell_type": "markdown",
      "metadata": {
        "id": "view-in-github",
        "colab_type": "text"
      },
      "source": [
        "<a href=\"https://colab.research.google.com/github/AlexNedyalkov/Linear-Algebra-Python/blob/master/Projections_and_Orthogonalization.ipynb\" target=\"_parent\"><img src=\"https://colab.research.google.com/assets/colab-badge.svg\" alt=\"Open In Colab\"/></a>"
      ]
    },
    {
      "cell_type": "code",
      "metadata": {
        "id": "wElc9_i0R2v_",
        "colab_type": "code",
        "colab": {}
      },
      "source": [
        "import numpy as np\n",
        "import matplotlib.pyplot as plt\n",
        "import math\n",
        "from mpl_toolkits.mplot3d import Axes3D"
      ],
      "execution_count": 2,
      "outputs": []
    },
    {
      "cell_type": "markdown",
      "metadata": {
        "id": "kJnGbOInR2wM",
        "colab_type": "text"
      },
      "source": [
        "\n",
        "---\n",
        "# 1: Projections in R^2\n",
        "---\n"
      ]
    },
    {
      "cell_type": "code",
      "metadata": {
        "id": "P4pPBPuPTrV0",
        "colab_type": "code",
        "colab": {
          "base_uri": "https://localhost:8080/",
          "height": 34
        },
        "outputId": "c396c23e-f46c-4952-f897-6cc5bc4cab6a"
      },
      "source": [
        "# point b\n",
        "b = np.array([4,1])\n",
        "\n",
        "\n",
        "# line a\n",
        "a = np.array([ 2, 5 ])\n",
        "\n",
        "# beta - scaler on which you would project b on a\n",
        "beta = a.transpose() @ b / (a.transpose() @ a)\n",
        "\n",
        "beta"
      ],
      "execution_count": 6,
      "outputs": [
        {
          "output_type": "execute_result",
          "data": {
            "text/plain": [
              "0.4482758620689655"
            ]
          },
          "metadata": {
            "tags": []
          },
          "execution_count": 6
        }
      ]
    },
    {
      "cell_type": "code",
      "metadata": {
        "id": "VgSi7plgnPlO",
        "colab_type": "code",
        "colab": {
          "base_uri": "https://localhost:8080/",
          "height": 34
        },
        "outputId": "824c5ff8-ae61-4b52-ea58-a95ad55a2bf5"
      },
      "source": [
        "# the point on a where b would project\n",
        "a * beta"
      ],
      "execution_count": 7,
      "outputs": [
        {
          "output_type": "execute_result",
          "data": {
            "text/plain": [
              "array([0.89655172, 2.24137931])"
            ]
          },
          "metadata": {
            "tags": []
          },
          "execution_count": 7
        }
      ]
    },
    {
      "cell_type": "code",
      "metadata": {
        "id": "uLQYCxZCngKZ",
        "colab_type": "code",
        "colab": {
          "base_uri": "https://localhost:8080/",
          "height": 269
        },
        "outputId": "886e2092-d7ff-4331-8d29-8e5b29258b8e"
      },
      "source": [
        "# draw!\n",
        "# plot point b\n",
        "plt.plot(b[0],b[1],'ko',label='b')\n",
        "# plot vector a\n",
        "plt.plot([0, a[0]], [0, a[1]], 'b', label = 'a')\n",
        "\n",
        "#plot the projections\n",
        "plt.plot([b[0], b[1]], [beta*a[0], beta * a[1]], 'r--', label = 'b-$\\beta$a')\n",
        "\n",
        "# add graphics\n",
        "plt.axis('square')\n",
        "plt.grid()\n",
        "plt.axis((-1, 6, -1, 6))\n",
        "\n",
        "plt.show()"
      ],
      "execution_count": 26,
      "outputs": [
        {
          "output_type": "display_data",
          "data": {
            "image/png": "[encoded data removed]",
            "text/plain": [
              "<Figure size 432x288 with 1 Axes>"
            ]
          },
          "metadata": {
            "tags": [],
            "needs_background": "light"
          }
        }
      ]
    },
    {
      "cell_type": "markdown",
      "metadata": {
        "id": "jGqoVsR9R2wY",
        "colab_type": "text"
      },
      "source": [
        "\n",
        "---\n",
        "# 2: Projections in R^N\n",
        "---\n"
      ]
    },
    {
      "cell_type": "code",
      "metadata": {
        "id": "fS494tZVR2wZ",
        "colab_type": "code",
        "colab": {}
      },
      "source": [
        "## the goal here is to solve Ax=b for x\n",
        "\n",
        "# sizes\n",
        "m = 16\n",
        "n = 10\n",
        "\n",
        "# vector b\n",
        "b = np.random.randn(m,1)\n",
        "\n",
        "# matrix A\n",
        "A = np.random.randn(m,n)\n",
        "\n",
        "# solution using explicit inverse\n",
        "x1 = np.linalg.inv(np.matrix.transpose(A)@A) @ (np.matrix.transpose(A)@b)\n",
        "\n",
        "# python solution\n",
        "x2 = np.linalg.solve(np.matrix.transpose(A)@A,np.matrix.transpose(A)@b)\n",
        "\n",
        "# show that the results are the same\n",
        "print([x1,x2])"
      ],
      "execution_count": null,
      "outputs": []
    },
    {
      "cell_type": "code",
      "metadata": {
        "id": "uSlcjyT4R2wh",
        "colab_type": "code",
        "colab": {}
      },
      "source": [
        "## geometric perspective in R^3\n",
        "\n",
        "# matrix sizes\n",
        "m = 3\n",
        "n = 2\n",
        "\n",
        "# vector b\n",
        "b = np.random.randn(m,1)\n",
        "\n",
        "# matrix A\n",
        "A = np.random.randn(m,n)\n",
        "\n",
        "\n",
        "# solution\n",
        "x = np.linalg.solve(np.matrix.transpose(A)@A,np.matrix.transpose(A)@b)\n",
        "Ax = A@x\n",
        "\n",
        "print(b)\n",
        "print(Ax)\n",
        "\n",
        "## plot\n",
        "fig = plt.figure(figsize=plt.figaspect(1))\n",
        "ax = fig.gca(projection='3d')\n",
        "\n",
        "# plot the vectors\n",
        "ax.plot([0, b[0]],[0, b[1]],[0, b[2]],'r')\n",
        "ax.plot([0, Ax[0]],[0, Ax[1]],[0, Ax[2]],'b')\n",
        "\n",
        "# plot the projection line\n",
        "ax.plot( [Ax[0][0], b[0]],\n",
        "         [Ax[1][0], b[1]],\n",
        "         [Ax[2][0], b[2]], 'g')\n",
        "\n",
        "# now draw plane\n",
        "xx, yy = np.meshgrid(np.linspace(-2,2), np.linspace(-2,2))\n",
        "cp = np.cross(A[:,0],A[:,1])\n",
        "z1 = (-cp[0]*xx - cp[1]*yy)*1./cp[2]\n",
        "ax.plot_surface(xx,yy,z1)\n",
        "\n",
        "plt.show()"
      ],
      "execution_count": null,
      "outputs": []
    },
    {
      "cell_type": "markdown",
      "metadata": {
        "id": "ehf49BejR2wp",
        "colab_type": "text"
      },
      "source": [
        "\n",
        "---\n",
        "# 3: QR decomposition\n",
        "---\n"
      ]
    },
    {
      "cell_type": "code",
      "metadata": {
        "id": "_foNy1vVR2wq",
        "colab_type": "code",
        "colab": {}
      },
      "source": [
        "# example from the slides\n",
        "\n",
        "A = [ [1,0],\n",
        "      [1,0],\n",
        "      [0,1] ]\n",
        "  \n",
        "# \"full\" QR decomposition\n",
        "Q,R = np.linalg.qr(A,'complete')\n",
        "print(Q)\n",
        "\n",
        "# \"economy\" QR decompmosition\n",
        "Q,R = np.linalg.qr(A) # is the default option in Python\n",
        "print(Q)"
      ],
      "execution_count": null,
      "outputs": []
    },
    {
      "cell_type": "code",
      "metadata": {
        "id": "RRwyRPZMR2wx",
        "colab_type": "code",
        "colab": {}
      },
      "source": [
        "## another example\n",
        "\n",
        "# the to-be-decomposed matrix\n",
        "M = np.array( [ [1, 1,-2], [3,-1, 1] ] )\n",
        "\n",
        "# QR decomposition\n",
        "Q,R = np.linalg.qr(M,'complete')\n",
        "\n",
        "# notice:\n",
        "print('R from QR: '),print(R)\n",
        "print('R from Q^TA: '),print(Q.T@M)\n",
        "\n",
        "# plot\n",
        "colorz = 'krg'\n",
        "\n",
        "for i in range(0,np.shape(M)[1]):\n",
        "    \n",
        "    # plot original vector M\n",
        "    plt.plot([0,M[0,i]],[0,M[1,i]],colorz[i])\n",
        "    \n",
        "    # plot orthogonalized vector Q\n",
        "    if i<np.shape(Q)[1]:\n",
        "        plt.plot([0,Q[0,i]],[0,Q[1,i]],colorz[i],linestyle='--')\n",
        "    \n",
        "    # plot residual vector R\n",
        "    plt.plot([0,R[0,i]],[0,R[1,i]],colorz[i],linestyle=':')\n",
        "\n",
        "    \n",
        "plt.legend(['M_1','Q_1','R_1'])\n",
        "plt.axis('square')\n",
        "plt.xlim(-4,4)\n",
        "plt.ylim(-4,4)\n",
        "plt.grid(True)\n",
        "plt.plot()\n"
      ],
      "execution_count": null,
      "outputs": []
    }
  ]
}