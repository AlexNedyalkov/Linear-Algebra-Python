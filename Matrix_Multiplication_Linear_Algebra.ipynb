{
  "nbformat": 4,
  "nbformat_minor": 0,
  "metadata": {
    "kernelspec": {
      "display_name": "Python 3",
      "language": "python",
      "name": "python3"
    },
    "language_info": {
      "codemirror_mode": {
        "name": "ipython",
        "version": 3
      },
      "file_extension": ".py",
      "mimetype": "text/x-python",
      "name": "python",
      "nbconvert_exporter": "python",
      "pygments_lexer": "ipython3",
      "version": "3.7.3"
    },
    "colab": {
      "name": "Matrix Multiplication Linear Algebra.ipynb",
      "provenance": [],
      "collapsed_sections": [],
      "include_colab_link": true
    }
  },
  "cells": [
    {
      "cell_type": "markdown",
      "metadata": {
        "id": "view-in-github",
        "colab_type": "text"
      },
      "source": [
        "<a href=\"https://colab.research.google.com/github/AlexNedyalkov/Linear-Algebra-Python/blob/master/Matrix_Multiplication_Linear_Algebra.ipynb\" target=\"_parent\"><img src=\"https://colab.research.google.com/assets/colab-badge.svg\" alt=\"Open In Colab\"/></a>"
      ]
    },
    {
      "cell_type": "code",
      "metadata": {
        "id": "HZGs2UXNL2t9",
        "colab_type": "code",
        "colab": {}
      },
      "source": [
        "import numpy as np\n",
        "import matplotlib.pyplot as plt\n",
        "import math"
      ],
      "execution_count": 2,
      "outputs": []
    },
    {
      "cell_type": "markdown",
      "metadata": {
        "id": "zpGF4WlUL2uL",
        "colab_type": "text"
      },
      "source": [
        "\n",
        "---\n",
        "# 1: Standard matrix multiplication, parts 1 & 2\n",
        "---\n"
      ]
    },
    {
      "cell_type": "code",
      "metadata": {
        "id": "enKFlAlvL2uN",
        "colab_type": "code",
        "colab": {
          "base_uri": "https://localhost:8080/",
          "height": 237
        },
        "outputId": "d9f62238-60f5-4a5d-e5e1-69141c76c64d"
      },
      "source": [
        "## rules for multiplication validity\n",
        "\n",
        "m = 4\n",
        "n = 3\n",
        "k = 6\n",
        "\n",
        "# make some matrices\n",
        "A = np.random.randn(m,n)\n",
        "B = np.random.randn(n,k)\n",
        "C = np.random.randn(m,k)\n",
        "\n",
        "# test which multiplications are valid.\n",
        "# Think of your answer first, then test.\n",
        "np.matmul(A,B)\n",
        "np.matmul(A,A)\n",
        "np.matmul(np.matrix.transpose(A),C)\n",
        "np.matmul(B,np.matrix.transpose(B))\n",
        "np.matmul(np.matrix.transpose(B),B)\n",
        "np.matmul(B,C)\n",
        "np.matmul(C,B)\n",
        "np.matmul(np.matrix.transpose(C),B)\n",
        "np.matmul(C,np.matrix.transpose(B))"
      ],
      "execution_count": 3,
      "outputs": [
        {
          "output_type": "error",
          "ename": "ValueError",
          "evalue": "ignored",
          "traceback": [
            "\u001b[0;31m---------------------------------------------------------------------------\u001b[0m",
            "\u001b[0;31mValueError\u001b[0m                                Traceback (most recent call last)",
            "\u001b[0;32m<ipython-input-3-c2ba656809e8>\u001b[0m in \u001b[0;36m<module>\u001b[0;34m()\u001b[0m\n\u001b[1;32m     13\u001b[0m \u001b[0;31m# Think of your answer first, then test.\u001b[0m\u001b[0;34m\u001b[0m\u001b[0;34m\u001b[0m\u001b[0;34m\u001b[0m\u001b[0m\n\u001b[1;32m     14\u001b[0m \u001b[0mnp\u001b[0m\u001b[0;34m.\u001b[0m\u001b[0mmatmul\u001b[0m\u001b[0;34m(\u001b[0m\u001b[0mA\u001b[0m\u001b[0;34m,\u001b[0m\u001b[0mB\u001b[0m\u001b[0;34m)\u001b[0m\u001b[0;34m\u001b[0m\u001b[0;34m\u001b[0m\u001b[0m\n\u001b[0;32m---> 15\u001b[0;31m \u001b[0mnp\u001b[0m\u001b[0;34m.\u001b[0m\u001b[0mmatmul\u001b[0m\u001b[0;34m(\u001b[0m\u001b[0mA\u001b[0m\u001b[0;34m,\u001b[0m\u001b[0mA\u001b[0m\u001b[0;34m)\u001b[0m\u001b[0;34m\u001b[0m\u001b[0;34m\u001b[0m\u001b[0m\n\u001b[0m\u001b[1;32m     16\u001b[0m \u001b[0mnp\u001b[0m\u001b[0;34m.\u001b[0m\u001b[0mmatmul\u001b[0m\u001b[0;34m(\u001b[0m\u001b[0mnp\u001b[0m\u001b[0;34m.\u001b[0m\u001b[0mmatrix\u001b[0m\u001b[0;34m.\u001b[0m\u001b[0mtranspose\u001b[0m\u001b[0;34m(\u001b[0m\u001b[0mA\u001b[0m\u001b[0;34m)\u001b[0m\u001b[0;34m,\u001b[0m\u001b[0mC\u001b[0m\u001b[0;34m)\u001b[0m\u001b[0;34m\u001b[0m\u001b[0;34m\u001b[0m\u001b[0m\n\u001b[1;32m     17\u001b[0m \u001b[0mnp\u001b[0m\u001b[0;34m.\u001b[0m\u001b[0mmatmul\u001b[0m\u001b[0;34m(\u001b[0m\u001b[0mB\u001b[0m\u001b[0;34m,\u001b[0m\u001b[0mnp\u001b[0m\u001b[0;34m.\u001b[0m\u001b[0mmatrix\u001b[0m\u001b[0;34m.\u001b[0m\u001b[0mtranspose\u001b[0m\u001b[0;34m(\u001b[0m\u001b[0mB\u001b[0m\u001b[0;34m)\u001b[0m\u001b[0;34m)\u001b[0m\u001b[0;34m\u001b[0m\u001b[0;34m\u001b[0m\u001b[0m\n",
            "\u001b[0;31mValueError\u001b[0m: matmul: Input operand 1 has a mismatch in its core dimension 0, with gufunc signature (n?,k),(k,m?)->(n?,m?) (size 4 is different from 3)"
          ]
        }
      ]
    },
    {
      "cell_type": "markdown",
      "metadata": {
        "id": "pYjatsAGnPAW",
        "colab_type": "text"
      },
      "source": [
        "# Code Challange: Matrix multiplication by layering\n"
      ]
    },
    {
      "cell_type": "code",
      "metadata": {
        "id": "-JDgmDNGnSHK",
        "colab_type": "code",
        "colab": {
          "base_uri": "https://localhost:8080/",
          "height": 260
        },
        "outputId": "4d6c3ca0-6fc3-478a-9bf7-1b0d7b762489"
      },
      "source": [
        "# generate two matrices A,B\n",
        "m = 4\n",
        "n = 6\n",
        "\n",
        "A = np.random.randn(m, n) * 10\n",
        "B = np.random.randn(n, m) * 10\n",
        "\n",
        "print(A)\n",
        "print(B)"
      ],
      "execution_count": null,
      "outputs": [
        {
          "output_type": "stream",
          "text": [
            "[[ -5.71463958   6.41520515   7.85556689  -6.34285027  -2.86227875\n",
            "   -7.27197954]\n",
            " [-15.78517407  -1.94092137  -2.93830008  -3.40140026  -0.27467976\n",
            "   -7.04361551]\n",
            " [  6.41707305  -4.47738383 -23.70332426  -8.01403493 -11.39089641\n",
            "  -17.47255993]\n",
            " [-11.40207909   8.8513213   12.95494847  -6.47687827   3.09643491\n",
            "   -7.06058831]]\n",
            "[[ -1.00803285  -6.62649214   4.78076354  -9.04010778]\n",
            " [-12.73610675  -2.66342708   3.50987869 -13.19907219]\n",
            " [ -4.57760439   3.87670133  22.07111393   9.81036447]\n",
            " [  9.29308683   4.7007108    6.28527824 -13.51677601]\n",
            " [ -1.31033551  -3.39860107   7.53366272  -3.35589105]\n",
            " [ -5.21778883  -5.65976848  10.18543905   2.69122122]]\n"
          ],
          "name": "stdout"
        }
      ]
    },
    {
      "cell_type": "code",
      "metadata": {
        "id": "1SWSozNbpeap",
        "colab_type": "code",
        "colab": {}
      },
      "source": [
        "a = A[:,0].reshape(m,1)"
      ],
      "execution_count": null,
      "outputs": []
    },
    {
      "cell_type": "code",
      "metadata": {
        "id": "0sK8qb25pqmF",
        "colab_type": "code",
        "colab": {}
      },
      "source": [
        "b = B[0,:].reshape(1,m)"
      ],
      "execution_count": null,
      "outputs": []
    },
    {
      "cell_type": "code",
      "metadata": {
        "id": "qVID_uvupujw",
        "colab_type": "code",
        "colab": {
          "base_uri": "https://localhost:8080/",
          "height": 86
        },
        "outputId": "281d6fda-5729-468a-9f53-ae3e6a8f5d67"
      },
      "source": [
        "a.dot(b)"
      ],
      "execution_count": null,
      "outputs": [
        {
          "output_type": "execute_result",
          "data": {
            "text/plain": [
              "array([[  5.76054442,  37.86801426, -27.32034058,  51.66095774],\n",
              "       [ 15.91197399, 104.60033187, -75.46518472, 142.6996749 ],\n",
              "       [ -6.46862043, -42.52268414,  30.67850891, -58.01103203],\n",
              "       [ 11.49367027,  75.55578746, -54.51064404, 103.07602389]])"
            ]
          },
          "metadata": {
            "tags": []
          },
          "execution_count": 38
        }
      ]
    },
    {
      "cell_type": "code",
      "metadata": {
        "id": "YHg0p-uKnghJ",
        "colab_type": "code",
        "colab": {
          "base_uri": "https://localhost:8080/",
          "height": 86
        },
        "outputId": "a60bc91a-e3fe-421e-9d79-e01b0dc1aa9c"
      },
      "source": [
        "# build the product matrix layerwise\n",
        "C1 = np.zeros((m,m))\n",
        "for i in range(n):\n",
        "    # outer product - column vector on the left and row vector on the right\n",
        "    a = A[:,i].reshape(m,1)\n",
        "    b = B[i,:].reshape(1,m)\n",
        "    C1 = C1 + a.dot(b)\n",
        "print(C1)"
      ],
      "execution_count": null,
      "outputs": [
        {
          "output_type": "stream",
          "text": [
            "[[-129.15432984   72.30482912   33.07903732  119.82205248]\n",
            " [  59.58464421  123.18868364 -242.31954724  167.4340747 ]\n",
            " [ 190.67916091  -22.55611126 -822.34664059 -131.92397138]\n",
            " [-187.94723365  101.19522102  173.18988592  171.49317063]]\n"
          ],
          "name": "stdout"
        }
      ]
    },
    {
      "cell_type": "code",
      "metadata": {
        "id": "HFKa98sFoA6S",
        "colab_type": "code",
        "colab": {
          "base_uri": "https://localhost:8080/",
          "height": 86
        },
        "outputId": "e7c4d0ac-5a5f-4a08-c6aa-aea482ea400f"
      },
      "source": [
        "# implement the matrix multiplication dierctly\n",
        "C2 = A.dot(B)\n",
        "\n",
        "print(C2)"
      ],
      "execution_count": null,
      "outputs": [
        {
          "output_type": "stream",
          "text": [
            "[[-129.15432984   72.30482912   33.07903732  119.82205248]\n",
            " [  59.58464421  123.18868364 -242.31954724  167.4340747 ]\n",
            " [ 190.67916091  -22.55611126 -822.34664059 -131.92397138]\n",
            " [-187.94723365  101.19522102  173.18988592  171.49317063]]\n"
          ],
          "name": "stdout"
        }
      ]
    },
    {
      "cell_type": "code",
      "metadata": {
        "id": "YYAGS1wpoDN7",
        "colab_type": "code",
        "colab": {
          "base_uri": "https://localhost:8080/",
          "height": 86
        },
        "outputId": "ea02adee-471c-4f03-c3ad-52674ee2f6e7"
      },
      "source": [
        "# compare the two matrices\n",
        "C1 == C2"
      ],
      "execution_count": null,
      "outputs": [
        {
          "output_type": "execute_result",
          "data": {
            "text/plain": [
              "array([[False,  True,  True,  True],\n",
              "       [False,  True,  True,  True],\n",
              "       [False, False,  True,  True],\n",
              "       [ True,  True, False,  True]])"
            ]
          },
          "metadata": {
            "tags": []
          },
          "execution_count": 41
        }
      ]
    },
    {
      "cell_type": "markdown",
      "metadata": {
        "id": "sKfgs8jkrw4x",
        "colab_type": "text"
      },
      "source": [
        "----\n",
        "#2: Matrix multiplication with diagonal matrix \n",
        "----"
      ]
    },
    {
      "cell_type": "code",
      "metadata": {
        "id": "r6_ZB1Garv2n",
        "colab_type": "code",
        "colab": {
          "base_uri": "https://localhost:8080/",
          "height": 69
        },
        "outputId": "6c68260e-43b2-4425-f0bf-2ce9ce4d5d26"
      },
      "source": [
        "A = np.random.randn(3,3) * 10\n",
        "A"
      ],
      "execution_count": null,
      "outputs": [
        {
          "output_type": "execute_result",
          "data": {
            "text/plain": [
              "array([[ -9.77667941,  -2.51275957, -12.05851706],\n",
              "       [ 13.70573316,  -3.75520778, -20.68620203],\n",
              "       [  8.67429921,  -9.67696328, -15.22870576]])"
            ]
          },
          "metadata": {
            "tags": []
          },
          "execution_count": 45
        }
      ]
    },
    {
      "cell_type": "code",
      "metadata": {
        "id": "6lu6mw73sDv1",
        "colab_type": "code",
        "colab": {
          "base_uri": "https://localhost:8080/",
          "height": 69
        },
        "outputId": "29469131-f558-48e6-bb83-be0922217817"
      },
      "source": [
        "DiagA = np.diag(v = [1,2,3])\n",
        "DiagA"
      ],
      "execution_count": null,
      "outputs": [
        {
          "output_type": "execute_result",
          "data": {
            "text/plain": [
              "array([[1, 0, 0],\n",
              "       [0, 2, 0],\n",
              "       [0, 0, 3]])"
            ]
          },
          "metadata": {
            "tags": []
          },
          "execution_count": 47
        }
      ]
    },
    {
      "cell_type": "code",
      "metadata": {
        "id": "uV0sTP_GsjAC",
        "colab_type": "code",
        "colab": {
          "base_uri": "https://localhost:8080/",
          "height": 69
        },
        "outputId": "f81e558e-4703-413c-9486-f8adc461bff1"
      },
      "source": [
        "# modulate the columns\n",
        "A.dot(DiagA)"
      ],
      "execution_count": null,
      "outputs": [
        {
          "output_type": "execute_result",
          "data": {
            "text/plain": [
              "array([[ -9.77667941,  -5.02551915, -36.17555117],\n",
              "       [ 13.70573316,  -7.51041557, -62.05860608],\n",
              "       [  8.67429921, -19.35392657, -45.68611728]])"
            ]
          },
          "metadata": {
            "tags": []
          },
          "execution_count": 48
        }
      ]
    },
    {
      "cell_type": "code",
      "metadata": {
        "id": "XPytxAgys2Kr",
        "colab_type": "code",
        "colab": {
          "base_uri": "https://localhost:8080/",
          "height": 69
        },
        "outputId": "7656e60c-a1f2-44cc-de9e-ac50e0dcaf9d"
      },
      "source": [
        "# modulate the row\n",
        "DiagA.dot(A)"
      ],
      "execution_count": null,
      "outputs": [
        {
          "output_type": "execute_result",
          "data": {
            "text/plain": [
              "array([[ -9.77667941,  -2.51275957, -12.05851706],\n",
              "       [ 27.41146632,  -7.51041557, -41.37240405],\n",
              "       [ 26.02289762, -29.03088985, -45.68611728]])"
            ]
          },
          "metadata": {
            "tags": []
          },
          "execution_count": 49
        }
      ]
    },
    {
      "cell_type": "markdown",
      "metadata": {
        "id": "LNOnqYLGL2uc",
        "colab_type": "text"
      },
      "source": [
        "\n",
        "---\n",
        "# 3: Order-of-operations on matrices\n",
        "---\n"
      ]
    },
    {
      "cell_type": "code",
      "metadata": {
        "id": "afqXnzXhL2ue",
        "colab_type": "code",
        "colab": {
          "base_uri": "https://localhost:8080/",
          "height": 52
        },
        "outputId": "3b2c697e-1f1b-4710-a382-bd0e456c6fcc"
      },
      "source": [
        "n = 2\n",
        "L = np.random.randn(n,n)\n",
        "I = np.random.randn(n,n)\n",
        "V = np.random.randn(n,n)\n",
        "E = np.random.randn(n,n)\n",
        "\n",
        "# result of \"forward\" multiplication and then transpose\n",
        "res1 = np.matrix.transpose( L @ I @ V @ E )\n",
        "\n",
        "# result of \"flipped\" multiplication of transposed matrices\n",
        "res2 = np.matrix.transpose(E) @ np.matrix.transpose(V) @ np.matrix.transpose(I) @ np.matrix.transpose(L)\n",
        "\n",
        "# test equality by subtracting (ignore possible computer rounding errors)\n",
        "res1-res2"
      ],
      "execution_count": null,
      "outputs": [
        {
          "output_type": "execute_result",
          "data": {
            "text/plain": [
              "array([[0.00000000e+00, 1.38777878e-17],\n",
              "       [0.00000000e+00, 0.00000000e+00]])"
            ]
          },
          "metadata": {
            "tags": []
          },
          "execution_count": 53
        }
      ]
    },
    {
      "cell_type": "markdown",
      "metadata": {
        "id": "41edDMC9L2un",
        "colab_type": "text"
      },
      "source": [
        "\n",
        "---\n",
        "# 4: Matrix-vector multiplication\n",
        "---\n"
      ]
    },
    {
      "cell_type": "markdown",
      "metadata": {
        "id": "JANJ74RnxjAg",
        "colab_type": "text"
      },
      "source": [
        "When the vector left multiplies the matrix the result is a weighted combination of the columns of the matrix.\n",
        "\n",
        "When the vector right multiplies the matrix the result is a weighted combination of the rows of the matrix.\n",
        "\n",
        "Pre-multiplyng and post-multiplying by a vector gives you the same result up to transpose only if the matrix is SYMMETRIC."
      ]
    },
    {
      "cell_type": "code",
      "metadata": {
        "id": "vEKtdVpd_vQC",
        "colab_type": "code",
        "colab": {}
      },
      "source": [
        "# number of elements \n",
        "m = 4\n",
        "\n",
        "# create matrices\n",
        "N = np.round(10*np.random.randn(m,m))\n",
        "S = np.round(N.transpose() @ N)"
      ],
      "execution_count": null,
      "outputs": []
    },
    {
      "cell_type": "code",
      "metadata": {
        "id": "b95TrtokALQV",
        "colab_type": "code",
        "colab": {
          "base_uri": "https://localhost:8080/",
          "height": 86
        },
        "outputId": "22d23949-086c-4aba-a520-a603eeb0fbad"
      },
      "source": [
        "N"
      ],
      "execution_count": null,
      "outputs": [
        {
          "output_type": "execute_result",
          "data": {
            "text/plain": [
              "array([[  1., -23., -22., -22.],\n",
              "       [ 20.,   1.,   6.,  16.],\n",
              "       [ 19.,  -6., -21.,  16.],\n",
              "       [-10.,   3.,  15.,  -3.]])"
            ]
          },
          "metadata": {
            "tags": []
          },
          "execution_count": 58
        }
      ]
    },
    {
      "cell_type": "code",
      "metadata": {
        "id": "dK50e8UMAQH-",
        "colab_type": "code",
        "colab": {
          "base_uri": "https://localhost:8080/",
          "height": 86
        },
        "outputId": "1940557a-d4b0-42de-e6a2-3f32d3353ab2"
      },
      "source": [
        "S"
      ],
      "execution_count": null,
      "outputs": [
        {
          "output_type": "execute_result",
          "data": {
            "text/plain": [
              "array([[ 862., -147., -451.,  632.],\n",
              "       [-147.,  575.,  683.,  417.],\n",
              "       [-451.,  683., 1186.,  199.],\n",
              "       [ 632.,  417.,  199., 1005.]])"
            ]
          },
          "metadata": {
            "tags": []
          },
          "execution_count": 59
        }
      ]
    },
    {
      "cell_type": "code",
      "metadata": {
        "id": "jVHCz_lYAZp_",
        "colab_type": "code",
        "colab": {
          "base_uri": "https://localhost:8080/",
          "height": 34
        },
        "outputId": "16962bed-ade5-4521-b648-90bc3c35c573"
      },
      "source": [
        "# and vector\n",
        "w = np.array([-1, 0, 1, 2])\n",
        "w"
      ],
      "execution_count": null,
      "outputs": [
        {
          "output_type": "execute_result",
          "data": {
            "text/plain": [
              "array([-1,  0,  1,  2])"
            ]
          },
          "metadata": {
            "tags": []
          },
          "execution_count": 61
        }
      ]
    },
    {
      "cell_type": "code",
      "metadata": {
        "id": "vqMeUVIgAbm9",
        "colab_type": "code",
        "colab": {
          "base_uri": "https://localhost:8080/",
          "height": 34
        },
        "outputId": "395ac530-39fe-4c17-9991-65b35a8621f3"
      },
      "source": [
        "w @ S"
      ],
      "execution_count": null,
      "outputs": [
        {
          "output_type": "execute_result",
          "data": {
            "text/plain": [
              "array([ -49., 1664., 2035., 1577.])"
            ]
          },
          "metadata": {
            "tags": []
          },
          "execution_count": 62
        }
      ]
    },
    {
      "cell_type": "code",
      "metadata": {
        "id": "Xon9KTN-AfSZ",
        "colab_type": "code",
        "colab": {
          "base_uri": "https://localhost:8080/",
          "height": 34
        },
        "outputId": "5ddcad78-d9b4-48bd-e5da-5b405908d441"
      },
      "source": [
        "S @ w.transpose()"
      ],
      "execution_count": null,
      "outputs": [
        {
          "output_type": "execute_result",
          "data": {
            "text/plain": [
              "array([ -49., 1664., 2035., 1577.])"
            ]
          },
          "metadata": {
            "tags": []
          },
          "execution_count": 63
        }
      ]
    },
    {
      "cell_type": "code",
      "metadata": {
        "id": "0bUVujOPL2uo",
        "colab_type": "code",
        "colab": {
          "base_uri": "https://localhost:8080/",
          "height": 34
        },
        "outputId": "2f1ba288-f455-47fa-b685-9c33c87b5ed2"
      },
      "source": [
        "\n",
        "# number of elements\n",
        "m = 4\n",
        "\n",
        "# create matrices\n",
        "N = np.round( 10*np.random.randn(m,m) )\n",
        "S = np.round( np.matrix.transpose(N)*N/m**2 ) # scaled symmetric\n",
        "\n",
        "# and vector\n",
        "w = np.array([-1, 0, 1, 2])\n",
        "\n",
        "# with symmetric matrix\n",
        "# NOTE: The @ symbol for matrix multiplication is relatively new to Python\n",
        "S@w    # 1\n",
        "np.matrix.transpose(S@w) # 2\n",
        "w@S    # 3\n",
        "np.matrix.transpose(w)@np.matrix.transpose(S)  # 4\n",
        "np.matrix.transpose(w)@S   # 5\n",
        "\n",
        "\n",
        "# with nonsymmetric matrix\n",
        "N@w    # 1\n",
        "np.matrix.transpose(N@w) # 2\n",
        "w@N    # 3\n",
        "np.matrix.transpose(w)@np.matrix.transpose(N)  # 4\n",
        "np.matrix.transpose(w)@N   # 5\n"
      ],
      "execution_count": null,
      "outputs": [
        {
          "output_type": "execute_result",
          "data": {
            "text/plain": [
              "array([-25.,  40.,  12.,  37.])"
            ]
          },
          "metadata": {
            "tags": []
          },
          "execution_count": 65
        }
      ]
    },
    {
      "cell_type": "code",
      "metadata": {
        "id": "6Mm9MXAx_txJ",
        "colab_type": "code",
        "colab": {}
      },
      "source": [
        ""
      ],
      "execution_count": null,
      "outputs": []
    },
    {
      "cell_type": "markdown",
      "metadata": {
        "id": "j1l3LQdZL2ux",
        "colab_type": "text"
      },
      "source": [
        "\n",
        "---\n",
        "# 5: 2D transformation matrices\n",
        "---\n"
      ]
    },
    {
      "cell_type": "markdown",
      "metadata": {
        "id": "Kut7uvmDUrRm",
        "colab_type": "text"
      },
      "source": [
        "Geometrically what multiplying vectors by matrices does is some combination of stretching and rotating.\n",
        "\n",
        "There is something special when multiplying a specific vector (not special on its own) and a specific matrix (not special on its own) and the vector does not rotate but only stretches. "
      ]
    },
    {
      "cell_type": "code",
      "metadata": {
        "id": "H1p0r9GyL2uz",
        "colab_type": "code",
        "colab": {
          "base_uri": "https://localhost:8080/",
          "height": 281
        },
        "outputId": "c68636a2-88dd-4706-95db-d789e889eece"
      },
      "source": [
        "# 2D input vector\n",
        "v = np.array([ 3, -2 ])\n",
        "\n",
        "# 2x2 transformation matrix\n",
        "A = np.array([ [1,-1], [2,1] ])\n",
        "\n",
        "# output vector is Av (convert v to column)\n",
        "w = A@np.matrix.transpose(v)\n",
        "\n",
        "\n",
        "# plot them\n",
        "plt.plot([0,v[0]],[0,v[1]],label='v')\n",
        "plt.plot([0,w[0]],[0,w[1]],label='Av')\n",
        "\n",
        "plt.grid()\n",
        "plt.axis((-6, 6, -6, 6))\n",
        "plt.legend()\n",
        "plt.title('Rotation + stretching')\n",
        "plt.show()"
      ],
      "execution_count": null,
      "outputs": [
        {
          "output_type": "display_data",
          "data": {
            "image/png": "[encoded data removed]",
            "text/plain": [
              "<Figure size 432x288 with 1 Axes>"
            ]
          },
          "metadata": {
            "tags": [],
            "needs_background": "light"
          }
        }
      ]
    },
    {
      "cell_type": "code",
      "metadata": {
        "id": "G7u1wey8L2u9",
        "colab_type": "code",
        "colab": {
          "base_uri": "https://localhost:8080/",
          "height": 281
        },
        "outputId": "9a4cc7b5-8580-4a94-ba96-fffcb4361b8f"
      },
      "source": [
        "## pure rotation\n",
        "\n",
        "# 2D input vector\n",
        "v = np.array([ 3, -2 ])\n",
        "\n",
        "# 2x2 rotation matrix\n",
        "th = 5*np.pi/24\n",
        "A = np.array([ [math.cos(th),-math.sin(th)], [math.sin(th),math.cos(th)] ])\n",
        "\n",
        "# output vector is Av (convert v to column)\n",
        "w = A@np.matrix.transpose(v)\n",
        "\n",
        "\n",
        "# plot them\n",
        "plt.plot([0,v[0]],[0,v[1]],label='v')\n",
        "plt.plot([0,w[0]],[0,w[1]],label='Av')\n",
        "\n",
        "plt.grid()\n",
        "plt.axis((-4, 4, -4, 4))\n",
        "plt.legend()\n",
        "plt.title('Pure rotation')\n",
        "plt.show()"
      ],
      "execution_count": null,
      "outputs": [
        {
          "output_type": "display_data",
          "data": {
            "image/png": "[encoded data removed]",
            "text/plain": [
              "<Figure size 432x288 with 1 Axes>"
            ]
          },
          "metadata": {
            "tags": [],
            "needs_background": "light"
          }
        }
      ]
    },
    {
      "cell_type": "markdown",
      "metadata": {
        "id": "aOCcpXSHL2vF",
        "colab_type": "text"
      },
      "source": [
        "\n",
        "---\n",
        "# 6: Additive and multiplicative matrix identities\n",
        "---\n"
      ]
    },
    {
      "cell_type": "code",
      "metadata": {
        "id": "NYD1hxDyL2vH",
        "colab_type": "code",
        "colab": {
          "base_uri": "https://localhost:8080/"
        },
        "outputId": "f3f9c896-8f8c-4535-b6e2-838a814e83b5"
      },
      "source": [
        "# size of matrices\n",
        "n = 4\n",
        "\n",
        "A = np.round( 10*np.random.randn(n,n) )\n",
        "I = np.eye(n,n)\n",
        "Z = np.zeros((n,n))\n",
        "\n",
        "# test both identities\n",
        "np.array_equal( A@I , A   )\n",
        "np.array_equal( A   , A@I )\n",
        "np.array_equal( A   , A+I )\n",
        "\n",
        "np.array_equal( A   , A+I )\n",
        "#np.array_equal( A+Z , A@I )\n"
      ],
      "execution_count": null,
      "outputs": [
        {
          "output_type": "error",
          "ename": "NameError",
          "evalue": "ignored",
          "traceback": [
            "\u001b[0;31m---------------------------------------------------------------------------\u001b[0m",
            "\u001b[0;31mNameError\u001b[0m                                 Traceback (most recent call last)",
            "\u001b[0;32m<ipython-input-1-0782e614a77c>\u001b[0m in \u001b[0;36m<module>\u001b[0;34m()\u001b[0m\n\u001b[1;32m      2\u001b[0m \u001b[0mn\u001b[0m \u001b[0;34m=\u001b[0m \u001b[0;36m4\u001b[0m\u001b[0;34m\u001b[0m\u001b[0;34m\u001b[0m\u001b[0m\n\u001b[1;32m      3\u001b[0m \u001b[0;34m\u001b[0m\u001b[0m\n\u001b[0;32m----> 4\u001b[0;31m \u001b[0mA\u001b[0m \u001b[0;34m=\u001b[0m \u001b[0mnp\u001b[0m\u001b[0;34m.\u001b[0m\u001b[0mround\u001b[0m\u001b[0;34m(\u001b[0m \u001b[0;36m10\u001b[0m\u001b[0;34m*\u001b[0m\u001b[0mnp\u001b[0m\u001b[0;34m.\u001b[0m\u001b[0mrandom\u001b[0m\u001b[0;34m.\u001b[0m\u001b[0mrandn\u001b[0m\u001b[0;34m(\u001b[0m\u001b[0mn\u001b[0m\u001b[0;34m,\u001b[0m\u001b[0mn\u001b[0m\u001b[0;34m)\u001b[0m \u001b[0;34m)\u001b[0m\u001b[0;34m\u001b[0m\u001b[0;34m\u001b[0m\u001b[0m\n\u001b[0m\u001b[1;32m      5\u001b[0m \u001b[0mI\u001b[0m \u001b[0;34m=\u001b[0m \u001b[0mnp\u001b[0m\u001b[0;34m.\u001b[0m\u001b[0meye\u001b[0m\u001b[0;34m(\u001b[0m\u001b[0mn\u001b[0m\u001b[0;34m,\u001b[0m\u001b[0mn\u001b[0m\u001b[0;34m)\u001b[0m\u001b[0;34m\u001b[0m\u001b[0;34m\u001b[0m\u001b[0m\n\u001b[1;32m      6\u001b[0m \u001b[0mZ\u001b[0m \u001b[0;34m=\u001b[0m \u001b[0mnp\u001b[0m\u001b[0;34m.\u001b[0m\u001b[0mzeros\u001b[0m\u001b[0;34m(\u001b[0m\u001b[0;34m(\u001b[0m\u001b[0mn\u001b[0m\u001b[0;34m,\u001b[0m\u001b[0mn\u001b[0m\u001b[0;34m)\u001b[0m\u001b[0;34m)\u001b[0m\u001b[0;34m\u001b[0m\u001b[0;34m\u001b[0m\u001b[0m\n",
            "\u001b[0;31mNameError\u001b[0m: name 'np' is not defined"
          ]
        }
      ]
    },
    {
      "cell_type": "markdown",
      "metadata": {
        "id": "q-79D2R-L2vN",
        "colab_type": "text"
      },
      "source": [
        "\n",
        "---\n",
        "# 7: Additive and multiplicative symmetric matrices\n",
        "---\n"
      ]
    },
    {
      "cell_type": "code",
      "metadata": {
        "id": "dy9lECm7L2vO",
        "colab_type": "code",
        "colab": {
          "base_uri": "https://localhost:8080/",
          "height": 104
        },
        "outputId": "17707f59-bce5-42d0-8be0-99a6dc7c2494"
      },
      "source": [
        "## the additive method\n",
        "\n",
        "# specify sizes\n",
        "m = 5\n",
        "n = 5\n",
        "\n",
        "# create matrices\n",
        "A = np.random.randn(m,n)\n",
        "S = ( A + np.matrix.transpose(A) )/2\n",
        "\n",
        "print(A)"
      ],
      "execution_count": 4,
      "outputs": [
        {
          "output_type": "stream",
          "text": [
            "[[-0.14328511  0.20176125 -0.89761357 -0.26682945 -1.17640669]\n",
            " [ 0.14309085  1.25333323 -0.94491877  1.43867973  0.14802247]\n",
            " [-0.51786348 -0.12918253  1.78065225 -0.67940839  0.97096463]\n",
            " [ 0.72894941 -0.25270777  1.70206822  0.98645637 -1.08158983]\n",
            " [-1.18190783  1.97810285  0.76167522 -0.56614392  0.562163  ]]\n"
          ],
          "name": "stdout"
        }
      ]
    },
    {
      "cell_type": "code",
      "metadata": {
        "id": "UhRJJXnzOO1L",
        "colab_type": "code",
        "colab": {
          "base_uri": "https://localhost:8080/",
          "height": 104
        },
        "outputId": "a6eda703-b78a-4153-d93f-520386deee0c"
      },
      "source": [
        "print(S)"
      ],
      "execution_count": null,
      "outputs": [
        {
          "output_type": "stream",
          "text": [
            "[[ 0.18698455 -0.31094683 -0.39017824  0.0929291   0.36386724]\n",
            " [-0.31094683  0.97421111  0.18963726 -0.09899955 -0.16230355]\n",
            " [-0.39017824  0.18963726  0.23104633 -0.23427058 -0.91307233]\n",
            " [ 0.0929291  -0.09899955 -0.23427058  0.14089805 -0.65243161]\n",
            " [ 0.36386724 -0.16230355 -0.91307233 -0.65243161 -1.26183683]]\n"
          ],
          "name": "stdout"
        }
      ]
    },
    {
      "cell_type": "code",
      "metadata": {
        "id": "cK17UC49OFX1",
        "colab_type": "code",
        "colab": {
          "base_uri": "https://localhost:8080/",
          "height": 104
        },
        "outputId": "38f6abb4-7ca7-4b2a-bc89-ea640caee6e0"
      },
      "source": [
        "# A symmetric matrix minus its transpose should be all zeros\n",
        "print( S-np.matrix.transpose(S) )\n"
      ],
      "execution_count": 5,
      "outputs": [
        {
          "output_type": "stream",
          "text": [
            "[[0. 0. 0. 0. 0.]\n",
            " [0. 0. 0. 0. 0.]\n",
            " [0. 0. 0. 0. 0.]\n",
            " [0. 0. 0. 0. 0.]\n",
            " [0. 0. 0. 0. 0.]]\n"
          ],
          "name": "stdout"
        }
      ]
    },
    {
      "cell_type": "code",
      "metadata": {
        "id": "HX2C4MQfL2vV",
        "colab_type": "code",
        "colab": {
          "base_uri": "https://localhost:8080/",
          "height": 191
        },
        "outputId": "d3603d8e-40d7-4332-a9d1-c944c53bd2a6"
      },
      "source": [
        "## the multiplicative method\n",
        "\n",
        "# specify sizes\n",
        "m = 5\n",
        "n = 3\n",
        "\n",
        "# create matrices\n",
        "A   = np.random.randn(m,n)\n",
        "AtA = np.matrix.transpose(A)@A\n",
        "AAt = A@np.matrix.transpose(A)\n",
        "\n",
        "# first, show that they are square\n",
        "print( AtA.shape )\n",
        "print( AAt.shape )\n",
        "\n",
        "\n",
        "# next, show that they are symmetric\n",
        "print( AtA - np.matrix.transpose(AtA) )\n",
        "print( AAt - np.matrix.transpose(AAt) )\n",
        "\n"
      ],
      "execution_count": null,
      "outputs": [
        {
          "output_type": "stream",
          "text": [
            "(3, 3)\n",
            "(5, 5)\n",
            "[[0. 0. 0.]\n",
            " [0. 0. 0.]\n",
            " [0. 0. 0.]]\n",
            "[[0. 0. 0. 0. 0.]\n",
            " [0. 0. 0. 0. 0.]\n",
            " [0. 0. 0. 0. 0.]\n",
            " [0. 0. 0. 0. 0.]\n",
            " [0. 0. 0. 0. 0.]]\n"
          ],
          "name": "stdout"
        }
      ]
    },
    {
      "cell_type": "markdown",
      "metadata": {
        "id": "1hqfZ5L0L2vc",
        "colab_type": "text"
      },
      "source": [
        "\n",
        "---\n",
        "# 8: Element-wise (Hadamard) multiplication\n",
        "---\n"
      ]
    },
    {
      "cell_type": "code",
      "metadata": {
        "id": "uN5tPgx8L2ve",
        "colab_type": "code",
        "colab": {},
        "outputId": "3bb4d561-c4f1-48e8-b8da-818277e9ac04"
      },
      "source": [
        "# any matrix sizes\n",
        "m = 13\n",
        "n =  2\n",
        "\n",
        "# ...but the two matrices must be the same size\n",
        "A = np.random.randn(m,n)\n",
        "B = np.random.randn(m,n)\n",
        "\n",
        "# note the different syntax compared to @ for matrix multiplication\n",
        "C = np.multiply( A,B )\n",
        "\n",
        "print(C)\n"
      ],
      "execution_count": null,
      "outputs": [
        {
          "output_type": "stream",
          "text": [
            "[[ -7.66323146e-01  -8.25906929e-02]\n",
            " [ -3.90966578e-02   3.55398187e-01]\n",
            " [  2.56140438e-01   8.10723166e-02]\n",
            " [ -3.34874260e+00  -1.01767138e+00]\n",
            " [  1.10493988e+00   1.31099017e-01]\n",
            " [ -2.04041307e+00  -1.72216741e+00]\n",
            " [ -3.82003034e-02   6.25393221e-01]\n",
            " [ -5.75491697e-01   1.34932994e+00]\n",
            " [  1.06584279e+00  -6.19962559e-01]\n",
            " [ -3.27215150e-01   4.13362140e-02]\n",
            " [  1.86198252e-01  -1.57051310e-01]\n",
            " [ -1.91929460e-03   2.33527471e-01]\n",
            " [ -1.95764360e-01   1.84572276e-01]]\n"
          ],
          "name": "stdout"
        }
      ]
    },
    {
      "cell_type": "markdown",
      "metadata": {
        "id": "UWw_168EL2vm",
        "colab_type": "text"
      },
      "source": [
        "\n",
        "---\n",
        "# 9: Multiplication of two symmetric matrices\n",
        "---\n"
      ]
    },
    {
      "cell_type": "code",
      "metadata": {
        "id": "RbOZLIIhL2vo",
        "colab_type": "code",
        "colab": {},
        "outputId": "afde25a2-755f-40b1-808e-d537daaab9af"
      },
      "source": [
        "# using the sympy library\n",
        "from sympy import *\n",
        "\n",
        "a,b,c,d,e,f,g,h,k,l,m,n,o,p,q,r,s,t,u = symbols('a b c d e f g h k l m n o p q r s t u', real=True)\n",
        "\n",
        "# symmetric and constant-diagonal matrices\n",
        "A = Matrix([ [a,b,c,d],\n",
        "             [b,a,e,f],\n",
        "             [c,e,a,h],\n",
        "             [d,f,h,a]   ])\n",
        "\n",
        "B = Matrix([ [l,m,n,o],\n",
        "             [m,l,q,r],\n",
        "             [n,q,l,t],\n",
        "             [o,r,t,l]   ])\n",
        "\n",
        "\n",
        "# confirmation that A and B are symmetric\n",
        "print( A - A.transpose() )\n",
        "print( B - B.transpose() )\n",
        "\n",
        "# ... and constant diagonal\n",
        "for i in range(0,np.size(A,0)):\n",
        "    print( A[i,i] )\n",
        "for i in range(0,np.size(B,0)):\n",
        "    print( B[i,i] )\n"
      ],
      "execution_count": null,
      "outputs": [
        {
          "output_type": "stream",
          "text": [
            "Matrix([[0, 0, 0, 0], [0, 0, 0, 0], [0, 0, 0, 0], [0, 0, 0, 0]])\n",
            "Matrix([[0, 0, 0, 0], [0, 0, 0, 0], [0, 0, 0, 0], [0, 0, 0, 0]])\n",
            "a\n",
            "a\n",
            "a\n",
            "a\n",
            "l\n",
            "l\n",
            "l\n",
            "l\n"
          ],
          "name": "stdout"
        }
      ]
    },
    {
      "cell_type": "code",
      "metadata": {
        "id": "Cr4TmHMgL2vy",
        "colab_type": "code",
        "colab": {},
        "outputId": "1859653c-3752-449d-fbf7-75263c9156e0"
      },
      "source": [
        "\n",
        "# but AB neq (AB)'\n",
        "A@B - (A@B).T\n",
        "\n",
        "# maybe for a submatrix?\n",
        "n = 3\n",
        "A1 = A[ 0:n,0:n ]\n",
        "B1 = B[ 0:n,0:n ]\n",
        "\n",
        "A1@B1 - (A1*B1).T"
      ],
      "execution_count": null,
      "outputs": [
        {
          "output_type": "execute_result",
          "data": {
            "text/plain": [
              "Matrix([\n",
              "[         0,  c*q - e*n, b*q - e*m],\n",
              "[-c*q + e*n,          0, b*n - c*m],\n",
              "[-b*q + e*m, -b*n + c*m,         0]])"
            ]
          },
          "metadata": {
            "tags": []
          },
          "execution_count": 56
        }
      ]
    },
    {
      "cell_type": "markdown",
      "metadata": {
        "id": "U0E2Y4CNL2v4",
        "colab_type": "text"
      },
      "source": [
        "\n",
        "---\n",
        "# 10: Frobenius dot-product\n",
        "---\n"
      ]
    },
    {
      "cell_type": "markdown",
      "metadata": {
        "id": "tKdQbIgShib4",
        "colab_type": "text"
      },
      "source": [
        "Frobenius dot-product is a measure of similarity or distances between two matrices.\n"
      ]
    },
    {
      "cell_type": "code",
      "metadata": {
        "id": "eb4vonzsL2v6",
        "colab_type": "code",
        "colab": {},
        "outputId": "f6a4d78b-df9b-4521-c2e5-b97dc0404971"
      },
      "source": [
        "# any matrix sizes\n",
        "m = 9\n",
        "n = 4\n",
        "\n",
        "# but the two matrices must be the same size\n",
        "A = np.random.randn(m,n)\n",
        "B = np.random.randn(m,n)\n",
        "\n",
        "# first vectorize, then vector-dot-product\n",
        "Av = np.reshape( A,m*n, order='F' ) # order='F' reshapes by columns instead of by rows\n",
        "Bv = np.reshape( B,m*n, order='F' )\n",
        "frob_dp = np.dot( Av,Bv )\n",
        "\n",
        "# trace method\n",
        "frob_dp2 = np.trace( np.matrix.transpose(A)@B )\n",
        "print(frob_dp2)\n",
        "print(frob_dp)\n",
        "\n",
        "# matrix norm\n",
        "Anorm  = np.linalg.norm(A,'fro')\n",
        "Anorm2 = np.sqrt( np.trace( np.matrix.transpose(A)@A ) )\n",
        "print(Anorm)\n",
        "print(Anorm2)"
      ],
      "execution_count": null,
      "outputs": [
        {
          "output_type": "stream",
          "text": [
            "-0.14464283250207544\n",
            "-0.14464283250207607\n",
            "6.001639307617599\n",
            "6.001639307617599\n"
          ],
          "name": "stdout"
        }
      ]
    },
    {
      "cell_type": "markdown",
      "metadata": {
        "id": "GqwJU0hhL2wD",
        "colab_type": "text"
      },
      "source": [
        "# 11: Matrix norms"
      ]
    },
    {
      "cell_type": "code",
      "metadata": {
        "id": "RUt6aqUsL2wF",
        "colab_type": "code",
        "colab": {},
        "outputId": "66e68f13-6eb3-4089-8078-8114f4cc5ab4"
      },
      "source": [
        "# Create a matrix\n",
        "A = np.array([ [1,2,3], [4,5,6], [7,7,9] ])\n",
        "# optional orthogonal matrix to show that 2-norm is 1\n",
        "Q,R = np.linalg.qr(np.random.randn(5,5))\n",
        "# A = Q\n",
        "\n",
        "# Frobenius norm\n",
        "normFrob = np.linalg.norm(A,'fro')\n",
        "\n",
        "# induced 2-norm\n",
        "normInd2 = np.linalg.norm(A,2)\n",
        "# note: computed as below\n",
        "lamb = np.sqrt( np.max(np.linalg.eig(A.T@A)[0]) )\n",
        "\n",
        "# schatten p-norm\n",
        "p = 1\n",
        "s = np.linalg.svd(A)[1] # get singular values\n",
        "normSchat = np.sum(s**p)**(1/p)\n",
        "\n",
        "\n",
        "# % show all norms for comparison\n",
        "print(normFrob,normInd2,normSchat)"
      ],
      "execution_count": null,
      "outputs": [
        {
          "output_type": "stream",
          "text": [
            "16.431676725154983 16.392007827749776 17.818241836274783\n"
          ],
          "name": "stdout"
        }
      ]
    }
  ]
}