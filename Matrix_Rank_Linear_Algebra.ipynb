{
  "nbformat": 4,
  "nbformat_minor": 0,
  "metadata": {
    "kernelspec": {
      "display_name": "Python 3",
      "language": "python",
      "name": "python3"
    },
    "language_info": {
      "codemirror_mode": {
        "name": "ipython",
        "version": 3
      },
      "file_extension": ".py",
      "mimetype": "text/x-python",
      "name": "python",
      "nbconvert_exporter": "python",
      "pygments_lexer": "ipython3",
      "version": "3.5.2"
    },
    "colab": {
      "name": "Matrix Rank Linear Algebra.ipynb",
      "provenance": [],
      "collapsed_sections": [
        "1RsRiCaVoGnw",
        "0_dprg_-k59i",
        "Onyzi66lk594",
        "5I1zHnlFdoA6",
        "ikh52jeOk5-B"
      ],
      "include_colab_link": true
    }
  },
  "cells": [
    {
      "cell_type": "markdown",
      "metadata": {
        "id": "view-in-github",
        "colab_type": "text"
      },
      "source": [
        "<a href=\"https://colab.research.google.com/github/AlexNedyalkov/Linear-Algebra-Python/blob/master/Matrix_Rank_Linear_Algebra.ipynb\" target=\"_parent\"><img src=\"https://colab.research.google.com/assets/colab-badge.svg\" alt=\"Open In Colab\"/></a>"
      ]
    },
    {
      "cell_type": "code",
      "metadata": {
        "id": "dlgva7oik59W",
        "colab_type": "code",
        "colab": {}
      },
      "source": [
        "import numpy as np\n",
        "import matplotlib.pyplot as plt\n",
        "import math"
      ],
      "execution_count": 2,
      "outputs": []
    },
    {
      "cell_type": "markdown",
      "metadata": {
        "id": "1RsRiCaVoGnw",
        "colab_type": "text"
      },
      "source": [
        "---\n",
        "#0: Theory\n",
        "---"
      ]
    },
    {
      "cell_type": "code",
      "metadata": {
        "id": "kUiOnv1PQvC2",
        "colab_type": "code",
        "colab": {}
      },
      "source": [
        ""
      ],
      "execution_count": null,
      "outputs": []
    },
    {
      "cell_type": "markdown",
      "metadata": {
        "id": "yyst-rxylA0Z",
        "colab_type": "text"
      },
      "source": [
        "The rank of a matrix is a single number that provides insight into the amount of information that is contained in the matrix.\n",
        "\n",
        "Rank is related to the dimensionality of the information contained in the matrix.\n",
        "\n",
        "max(r) = min(m,n)\n",
        "\n",
        "The rank of a matrix is the largest number of columns (rows) that can form a linearly independent set.\n",
        "\n",
        "Rank (A + B) <= Rank(A) + Rank(B)\n",
        "Rank (A * B) <= min(Rank(A), Rank(B))\n",
        "\n",
        "Rank(A) = Rank(A.tranpose() * A) = Rank(A.transpose()) = Rank(A * A.tranpose())\n",
        "\n"
      ]
    },
    {
      "cell_type": "markdown",
      "metadata": {
        "id": "0_dprg_-k59i",
        "colab_type": "text"
      },
      "source": [
        "\n",
        "---\n",
        "# 1: Computing rank: theory and practice\n",
        "---\n"
      ]
    },
    {
      "cell_type": "code",
      "metadata": {
        "id": "b0M43UnDk59j",
        "colab_type": "code",
        "colab": {},
        "outputId": "7c628679-da02-4d22-910b-caf612fe4cae"
      },
      "source": [
        "# make a matrix\n",
        "m = 4\n",
        "n = 6\n",
        "\n",
        "# create a random matrix\n",
        "A = np.random.randn(m,n)\n",
        "\n",
        "# what is the largest possible rank?\n",
        "ra = np.linalg.matrix_rank(A)\n",
        "print('rank=' + str(ra))\n",
        "\n",
        "\n",
        "# set last column to be repeat of penultimate column\n",
        "B = A\n",
        "B[:,n-1] = B[:,n-2]\n",
        "rb = np.linalg.matrix_rank(B)\n",
        "print('rank=' + str(rb))"
      ],
      "execution_count": null,
      "outputs": [
        {
          "output_type": "stream",
          "text": [
            "rank=4\n",
            "rank=4\n"
          ],
          "name": "stdout"
        }
      ]
    },
    {
      "cell_type": "code",
      "metadata": {
        "id": "O7ninLOsk59w",
        "colab_type": "code",
        "colab": {},
        "outputId": "b6d4638e-51fb-47e8-8995-f401abaa62a8"
      },
      "source": [
        "## adding noise to a rank-deficient matrix\n",
        "\n",
        "# square for convenience\n",
        "A = np.round( 10*np.random.randn(m,m) )\n",
        "\n",
        "# reduce the rank\n",
        "A[:,m-1] = A[:,m-2]\n",
        "\n",
        "# noise level\n",
        "noiseamp = .001\n",
        "\n",
        "# add the noise\n",
        "B = A + noiseamp*np.random.randn(m,m)\n",
        "\n",
        "print('rank (w/o noise) = ' + str(np.linalg.matrix_rank(A)))\n",
        "print('rank (with noise) = ' + str(np.linalg.matrix_rank(B)))\n"
      ],
      "execution_count": null,
      "outputs": [
        {
          "output_type": "stream",
          "text": [
            "rank (w/o noise) = 3\n",
            "rank (with noise) = 4\n"
          ],
          "name": "stdout"
        }
      ]
    },
    {
      "cell_type": "markdown",
      "metadata": {
        "id": "Onyzi66lk594",
        "colab_type": "text"
      },
      "source": [
        "\n",
        "---\n",
        "# 2: Rank of A^TA and AA^T\n",
        "---\n"
      ]
    },
    {
      "cell_type": "code",
      "metadata": {
        "id": "iuhbJWLVk595",
        "colab_type": "code",
        "colab": {
          "base_uri": "https://localhost:8080/",
          "height": 52
        },
        "outputId": "f50cd707-8536-4cc2-dbee-0887eac86129"
      },
      "source": [
        "\n",
        "# matrix sizes\n",
        "m = 14\n",
        "n =  3\n",
        "\n",
        "# create matrices\n",
        "A = np.round( 10*np.random.randn(m,n) )\n",
        "\n",
        "AtA = np.matrix.transpose(A)@A\n",
        "AAt = A@np.matrix.transpose(A)\n",
        "\n",
        "# get matrix sizes\n",
        "sizeAtA = AtA.shape\n",
        "sizeAAt = AAt.shape\n",
        "\n",
        "# print info!\n",
        "print('AtA: %dx%d, rank=%d' %(sizeAtA[0],sizeAtA[1],np.linalg.matrix_rank(AtA)))\n",
        "print('AAt: %dx%d, rank=%d' %(sizeAAt[0],sizeAAt[1],np.linalg.matrix_rank(AAt)))\n"
      ],
      "execution_count": 13,
      "outputs": [
        {
          "output_type": "stream",
          "text": [
            "AtA: 3x3, rank=3\n",
            "AAt: 14x14, rank=3\n"
          ],
          "name": "stdout"
        }
      ]
    },
    {
      "cell_type": "markdown",
      "metadata": {
        "id": "5I1zHnlFdoA6",
        "colab_type": "text"
      },
      "source": [
        "#Code Challenge: Rank of multiplied and summed matrices "
      ]
    },
    {
      "cell_type": "code",
      "metadata": {
        "id": "iFDhn7Tid0iw",
        "colab_type": "code",
        "colab": {
          "base_uri": "https://localhost:8080/",
          "height": 139
        },
        "outputId": "4cda3757-0032-49fc-f86e-ba03785264fa"
      },
      "source": [
        "#Create two 2x5 matrices\n",
        "A = np.random.randn(2,5)\n",
        "B = np.random.randn(2,5)\n",
        "\n",
        "print(\"Rank of A:\", np.linalg.matrix_rank(A))\n",
        "print(\"Rank of B:\", np.linalg.matrix_rank(B))\n",
        "\n",
        "AtA = A.transpose() @ A\n",
        "BtB = B.transpose() @ B\n",
        "\n",
        "print(\"Rank of AtA:\", np.linalg.matrix_rank(AtA))\n",
        "print(\"Rank of BtB:\", np.linalg.matrix_rank(BtB))\n",
        "\n",
        "print(\"Rank of AtA * BtB: \", np.linalg.matrix_rank(AtA @ BtB))\n",
        "\n",
        "print(\"Rank A + Rank B: \", np.linalg.matrix_rank(A + B))\n",
        "print(\"Rank AtA + Rank BtB: \", np.linalg.matrix_rank(AtA + BtB))"
      ],
      "execution_count": 24,
      "outputs": [
        {
          "output_type": "stream",
          "text": [
            "Rank of A: 2\n",
            "Rank of B: 2\n",
            "Rank of AtA: 2\n",
            "Rank of BtB: 2\n",
            "Rank of AtA * BtB:  2\n",
            "Rank A + Rank B:  2\n",
            "Rank A + Rank B:  4\n"
          ],
          "name": "stdout"
        }
      ]
    },
    {
      "cell_type": "markdown",
      "metadata": {
        "id": "ikh52jeOk5-B",
        "colab_type": "text"
      },
      "source": [
        "\n",
        "---\n",
        "# 3: Making a matrix full-rank by \"shifting\"\n",
        "---\n"
      ]
    },
    {
      "cell_type": "code",
      "metadata": {
        "id": "qEcBBuazk5-C",
        "colab_type": "code",
        "colab": {
          "base_uri": "https://localhost:8080/",
          "height": 52
        },
        "outputId": "44470fea-7474-4e83-b423-8e929d1ac5fc"
      },
      "source": [
        "# size of matrix\n",
        "m = 30\n",
        "\n",
        "# create the square symmetric matrix\n",
        "A = np.random.randn(m,m)\n",
        "A = np.round( 10*np.matrix.transpose(A)@A )\n",
        "\n",
        "# reduce the rank\n",
        "A[:,0] = A[:,1]\n",
        "\n",
        "# shift amount (l=lambda)\n",
        "l = .01\n",
        "\n",
        "# new matrix\n",
        "B = A + l*np.eye(m,m)\n",
        "\n",
        "# print information\n",
        "print('rank(w/o shift) = %d' %np.linalg.matrix_rank(A))\n",
        "print('rank(with shift) = %d' %np.linalg.matrix_rank(B))\n"
      ],
      "execution_count": 25,
      "outputs": [
        {
          "output_type": "stream",
          "text": [
            "rank(w/o shift) = 29\n",
            "rank(with shift) = 30\n"
          ],
          "name": "stdout"
        }
      ]
    }
  ]
}