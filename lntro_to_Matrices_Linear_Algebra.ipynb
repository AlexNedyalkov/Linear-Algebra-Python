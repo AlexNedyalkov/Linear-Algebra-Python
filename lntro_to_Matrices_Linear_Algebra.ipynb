{
  "nbformat": 4,
  "nbformat_minor": 0,
  "metadata": {
    "kernelspec": {
      "display_name": "Python 3",
      "language": "python",
      "name": "python3"
    },
    "language_info": {
      "codemirror_mode": {
        "name": "ipython",
        "version": 3
      },
      "file_extension": ".py",
      "mimetype": "text/x-python",
      "name": "python",
      "nbconvert_exporter": "python",
      "pygments_lexer": "ipython3",
      "version": "3.7.3"
    },
    "colab": {
      "name": "lntro to Matrices Linear Algebra.ipynb",
      "provenance": [],
      "include_colab_link": true
    }
  },
  "cells": [
    {
      "cell_type": "markdown",
      "metadata": {
        "id": "view-in-github",
        "colab_type": "text"
      },
      "source": [
        "<a href=\"https://colab.research.google.com/github/AlexNedyalkov/Linear-Algebra-Python/blob/master/lntro_to_Matrices_Linear_Algebra.ipynb\" target=\"_parent\"><img src=\"https://colab.research.google.com/assets/colab-badge.svg\" alt=\"Open In Colab\"/></a>"
      ]
    },
    {
      "cell_type": "code",
      "metadata": {
        "id": "ZFkqdBnT6LNZ",
        "colab_type": "code",
        "colab": {}
      },
      "source": [
        "import numpy as np"
      ],
      "execution_count": 2,
      "outputs": []
    },
    {
      "cell_type": "markdown",
      "metadata": {
        "id": "mx0Rtq-g6LN6",
        "colab_type": "text"
      },
      "source": [
        "\n",
        "---\n",
        "# 1 Intro to matrices\n",
        "---\n"
      ]
    },
    {
      "cell_type": "code",
      "metadata": {
        "id": "MFSqo3cL6LN8",
        "colab_type": "code",
        "colab": {
          "base_uri": "https://localhost:8080/",
          "height": 104
        },
        "outputId": "334368b8-013d-414e-ebf3-ab3f77eb4b26"
      },
      "source": [
        "# square vs. rectangular\n",
        "S = np.random.randn(5,5)\n",
        "R = np.random.randn(5,2) # 5 rows, 2 columns\n",
        "print(R)"
      ],
      "execution_count": 3,
      "outputs": [
        {
          "output_type": "stream",
          "text": [
            "[[ 1.09919129e+00 -2.38293170e+00]\n",
            " [ 7.75979311e-01  4.58954454e-01]\n",
            " [ 1.75291533e-01  6.90525252e-01]\n",
            " [ 7.94006216e-01  5.98748641e-01]\n",
            " [ 1.74032436e-03 -1.57864980e+00]]\n"
          ],
          "name": "stdout"
        }
      ]
    },
    {
      "cell_type": "markdown",
      "metadata": {
        "id": "gVBT0fcv9DCQ",
        "colab_type": "text"
      },
      "source": [
        "###If a matrix is mirrored around the diagonal it is called symmetric matrix. Only square matrices can be symmetric. \n",
        "\n",
        "###Symmetric:        A = A.transpose()\n",
        "\n",
        "###Skew-symmetric:   A = -A.transpose()"
      ]
    },
    {
      "cell_type": "code",
      "metadata": {
        "id": "_mg6Dz8L7vcj",
        "colab_type": "code",
        "colab": {
          "base_uri": "https://localhost:8080/",
          "height": 69
        },
        "outputId": "62db8bb1-da0d-484b-edec-1e2ae48255a0"
      },
      "source": [
        "# identity\n",
        "I = np.eye(3)\n",
        "print(I)"
      ],
      "execution_count": 9,
      "outputs": [
        {
          "output_type": "stream",
          "text": [
            "[[1. 0. 0.]\n",
            " [0. 1. 0.]\n",
            " [0. 0. 1.]]\n"
          ],
          "name": "stdout"
        }
      ]
    },
    {
      "cell_type": "code",
      "metadata": {
        "id": "N6njfFb_73K9",
        "colab_type": "code",
        "colab": {
          "base_uri": "https://localhost:8080/",
          "height": 86
        },
        "outputId": "5890245c-9d93-4eeb-948d-1be5eac4248e"
      },
      "source": [
        "# zeros\n",
        "Z = np.zeros((4,4))\n",
        "print(Z)"
      ],
      "execution_count": 10,
      "outputs": [
        {
          "output_type": "stream",
          "text": [
            "[[0. 0. 0. 0.]\n",
            " [0. 0. 0. 0.]\n",
            " [0. 0. 0. 0.]\n",
            " [0. 0. 0. 0.]]\n"
          ],
          "name": "stdout"
        }
      ]
    },
    {
      "cell_type": "code",
      "metadata": {
        "id": "l4FAVP9K76sO",
        "colab_type": "code",
        "colab": {
          "base_uri": "https://localhost:8080/",
          "height": 104
        },
        "outputId": "59a1eddb-ae54-43d5-af21-21d50b26f0fa"
      },
      "source": [
        "# diagonal\n",
        "D = np.diag([ 1, 2, 3, 5, 2 ])\n",
        "print(D)"
      ],
      "execution_count": 11,
      "outputs": [
        {
          "output_type": "stream",
          "text": [
            "[[1 0 0 0 0]\n",
            " [0 2 0 0 0]\n",
            " [0 0 3 0 0]\n",
            " [0 0 0 5 0]\n",
            " [0 0 0 0 2]]\n"
          ],
          "name": "stdout"
        }
      ]
    },
    {
      "cell_type": "markdown",
      "metadata": {
        "id": "TljWqTJa944v",
        "colab_type": "text"
      },
      "source": [
        "###For upper triangular matrices all the elements below the diagonal must zeo. For lower rectangular matrices all the elements above the diagonal must be zero."
      ]
    },
    {
      "cell_type": "code",
      "metadata": {
        "id": "r7lw_YkE79c3",
        "colab_type": "code",
        "colab": {
          "base_uri": "https://localhost:8080/",
          "height": 104
        },
        "outputId": "5fcb9900-d48d-4ade-d432-c4e96dce6494"
      },
      "source": [
        "# create triangular matrix from full matrices\n",
        "S = np.random.randn(5,5)\n",
        "U = np.triu(S)\n",
        "L = np.tril(S)\n",
        "print(L)"
      ],
      "execution_count": 12,
      "outputs": [
        {
          "output_type": "stream",
          "text": [
            "[[ 0.67771961  0.          0.          0.          0.        ]\n",
            " [ 1.12225967 -0.25837398  0.          0.          0.        ]\n",
            " [ 1.93455799  0.70508475 -0.55953115  0.          0.        ]\n",
            " [ 1.84498846  0.98720115  0.38305783 -0.73002229  0.        ]\n",
            " [ 0.16651958 -0.03438629 -0.16018908 -0.95818591 -0.98532125]]\n"
          ],
          "name": "stdout"
        }
      ]
    },
    {
      "cell_type": "code",
      "metadata": {
        "id": "LhUuGsSh8BRJ",
        "colab_type": "code",
        "colab": {
          "base_uri": "https://localhost:8080/",
          "height": 86
        },
        "outputId": "c6bf2ab9-d44b-490e-b10b-2130fdbde2cf"
      },
      "source": [
        "# concatenate matrices (sizes must match!)\n",
        "A = np.random.randn(4,2)\n",
        "B = np.random.randn(4,4)\n",
        "C = np.concatenate((A,B),axis=1)\n",
        "print(C)"
      ],
      "execution_count": 13,
      "outputs": [
        {
          "output_type": "stream",
          "text": [
            "[[-0.29293785  1.17072111  0.12324812  0.02992848 -0.49997312 -0.63830273]\n",
            " [-0.7756639  -0.8944732   1.35990339  1.34168252 -1.39606075  0.38673915]\n",
            " [ 0.61778387  0.28915741  2.15315367  1.92814331  1.11476888  0.16369447]\n",
            " [-2.38978519 -0.12886803 -0.48140692 -1.1668985  -1.0720133   0.45932061]]\n"
          ],
          "name": "stdout"
        }
      ]
    },
    {
      "cell_type": "markdown",
      "metadata": {
        "id": "cnxQ9-lS6LOP",
        "colab_type": "text"
      },
      "source": [
        "\n",
        "---\n",
        "# 2 Matrix addition and subtraction\n",
        "---\n"
      ]
    },
    {
      "cell_type": "code",
      "metadata": {
        "id": "tU0IGibn6LOQ",
        "colab_type": "code",
        "colab": {
          "base_uri": "https://localhost:8080/",
          "height": 191
        },
        "outputId": "5a5a052c-42a9-4f2d-923c-bd743879f017"
      },
      "source": [
        "\n",
        "# create random matrices\n",
        "A = np.random.randn(5,4)\n",
        "B = np.random.randn(5,3)\n",
        "C = np.random.randn(5,4)\n",
        "\n",
        "# try to add them\n",
        "A+C\n",
        "\n",
        "\n",
        "\n",
        "# \"shifting\" a matrix\n",
        "l = .3 # lambda\n",
        "N = 5  # size of square matrix\n",
        "D = np.random.randn(N,N) # can only shift a square matrix\n",
        "print(D)\n",
        "\n",
        "Ds = D + l*np.eye(N)\n",
        "print(Ds)"
      ],
      "execution_count": 14,
      "outputs": [
        {
          "output_type": "stream",
          "text": [
            "[[ 1.27636881  0.35522104 -1.07531468  0.47080849  1.35849981]\n",
            " [-0.86470908  0.04451922 -1.18981783  0.206073    0.33245488]\n",
            " [ 0.19765453 -0.13393582 -1.31612528  2.27523785 -0.52002094]\n",
            " [ 0.27706036  0.11719874 -0.76993177  0.10308921 -0.31377783]\n",
            " [-1.77511537  0.21666683  0.36033546 -0.02435009  1.20268701]]\n",
            "[[ 1.57636881  0.35522104 -1.07531468  0.47080849  1.35849981]\n",
            " [-0.86470908  0.34451922 -1.18981783  0.206073    0.33245488]\n",
            " [ 0.19765453 -0.13393582 -1.01612528  2.27523785 -0.52002094]\n",
            " [ 0.27706036  0.11719874 -0.76993177  0.40308921 -0.31377783]\n",
            " [-1.77511537  0.21666683  0.36033546 -0.02435009  1.50268701]]\n"
          ],
          "name": "stdout"
        }
      ]
    },
    {
      "cell_type": "markdown",
      "metadata": {
        "id": "cDOIGUUl6LOd",
        "colab_type": "text"
      },
      "source": [
        "\n",
        "---\n",
        "# 3 Matrix-scalar multiplication\n",
        "---\n"
      ]
    },
    {
      "cell_type": "code",
      "metadata": {
        "id": "QbUNJHxN6LOe",
        "colab_type": "code",
        "colab": {},
        "outputId": "bb34c1a0-882e-4a26-ace2-0833d3aa96ed"
      },
      "source": [
        "# define matrix and scalar\n",
        "M = np.array([ [1, 2], [2, 5] ])\n",
        "s = 2\n",
        "\n",
        "# pre- and post-multiplication is the same:\n",
        "print( M*s )\n",
        "print( s*M )\n"
      ],
      "execution_count": null,
      "outputs": [
        {
          "output_type": "stream",
          "text": [
            "[[ 2  4]\n",
            " [ 4 10]]\n",
            "[[ 2  4]\n",
            " [ 4 10]]\n"
          ],
          "name": "stdout"
        }
      ]
    },
    {
      "cell_type": "markdown",
      "metadata": {
        "id": "_eWsMjM76LOq",
        "colab_type": "text"
      },
      "source": [
        "# 4 Transpose"
      ]
    },
    {
      "cell_type": "code",
      "metadata": {
        "id": "KdYqhk2_6LOt",
        "colab_type": "code",
        "colab": {
          "base_uri": "https://localhost:8080/",
          "height": 243
        },
        "outputId": "39469dca-cae1-47b5-84c8-ffb0b1608b0f"
      },
      "source": [
        "M = np.array([ [1,2,3],\n",
        "               [2,3,4] ])\n",
        "\n",
        "print(M), print('')\n",
        "print(M.T), print('') # one transpose\n",
        "print(M.T.T),print('') # double-transpose returns the original matrix\n",
        "\n",
        "# can also use the function transpose\n",
        "print(np.transpose(M))"
      ],
      "execution_count": 15,
      "outputs": [
        {
          "output_type": "stream",
          "text": [
            "[[1 2 3]\n",
            " [2 3 4]]\n",
            "\n",
            "[[1 2]\n",
            " [2 3]\n",
            " [3 4]]\n",
            "\n",
            "[[1 2 3]\n",
            " [2 3 4]]\n",
            "\n",
            "[[1 2]\n",
            " [2 3]\n",
            " [3 4]]\n"
          ],
          "name": "stdout"
        }
      ]
    },
    {
      "cell_type": "code",
      "metadata": {
        "id": "ceNLgVFW6LO9",
        "colab_type": "code",
        "colab": {
          "base_uri": "https://localhost:8080/",
          "height": 243
        },
        "outputId": "815e919d-e05b-4b40-94e7-810dfb1c6549"
      },
      "source": [
        "# warning! be careful when using complex matrices\n",
        "C = np.array([ [4+1j , 3 , 2-4j] ])\n",
        "\n",
        "print(C), print('')\n",
        "print(C.T), print('')\n",
        "print(np.transpose(C)), print('')\n",
        "\n",
        "# Note: In MATLAB, the transpose is the Hermitian transpose; \n",
        "#       in Python, you need to call the Hermitian explicitly by first converting from an array into a matrix\n",
        "print(np.matrix(C).H) # note the sign flips!\n"
      ],
      "execution_count": 16,
      "outputs": [
        {
          "output_type": "stream",
          "text": [
            "[[4.+1.j 3.+0.j 2.-4.j]]\n",
            "\n",
            "[[4.+1.j]\n",
            " [3.+0.j]\n",
            " [2.-4.j]]\n",
            "\n",
            "[[4.+1.j]\n",
            " [3.+0.j]\n",
            " [2.-4.j]]\n",
            "\n",
            "[[4.-1.j]\n",
            " [3.-0.j]\n",
            " [2.+4.j]]\n"
          ],
          "name": "stdout"
        }
      ]
    },
    {
      "cell_type": "markdown",
      "metadata": {
        "id": "ZjXnt7PD6LPG",
        "colab_type": "text"
      },
      "source": [
        "\n",
        "---\n",
        "# 5 Diagonal and trace\n",
        "---\n",
        "The diagonal elements of a covariance matrix contain contains the variance of each variable. As a function diagonalization takes a matrix as input and returns a vector.\n",
        "\n",
        "__Trace of a matrix is the sum of all the diagonal elements.__"
      ]
    },
    {
      "cell_type": "code",
      "metadata": {
        "id": "v472x6Wr6LPH",
        "colab_type": "code",
        "colab": {
          "base_uri": "https://localhost:8080/",
          "height": 139
        },
        "outputId": "4ba5a657-2c1a-4700-a349-7edb12193caf"
      },
      "source": [
        "\n",
        "M = np.round( 5*np.random.randn(4,4) )\n",
        "\n",
        "# extract the diagonals\n",
        "d = np.diag(M)\n",
        "\n",
        "# notice the two ways of using the diag function\n",
        "d = np.diag(M) # input is matrix, output is vector\n",
        "D = np.diag(d) # input is vector, output is matrix\n",
        "print(d)\n",
        "print(D)\n",
        "\n",
        "# trace as sum of diagonal elements\n",
        "tr = np.trace(M)\n",
        "tr2 = sum( np.diag(M) )\n",
        "print(tr)\n",
        "print(tr2)"
      ],
      "execution_count": 17,
      "outputs": [
        {
          "output_type": "stream",
          "text": [
            "[-6.  2.  4.  4.]\n",
            "[[-6.  0.  0.  0.]\n",
            " [ 0.  2.  0.  0.]\n",
            " [ 0.  0.  4.  0.]\n",
            " [ 0.  0.  0.  4.]]\n",
            "4.0\n",
            "4.0\n"
          ],
          "name": "stdout"
        }
      ]
    }
  ]
}